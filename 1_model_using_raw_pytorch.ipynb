{
  "nbformat": 4,
  "nbformat_minor": 0,
  "metadata": {
    "colab": {
      "provenance": [],
      "toc_visible": true,
      "gpuType": "T4",
      "authorship_tag": "ABX9TyMlu4PF/2bcXcY91hcZ+vue",
      "include_colab_link": true
    },
    "kernelspec": {
      "name": "python3",
      "display_name": "Python 3"
    },
    "language_info": {
      "name": "python"
    },
    "accelerator": "GPU",
    "widgets": {
      "application/vnd.jupyter.widget-state+json": {
        "04b520d6ac934f8889d52be8ac21c67b": {
          "model_module": "@jupyter-widgets/controls",
          "model_name": "HBoxModel",
          "model_module_version": "1.5.0",
          "state": {
            "_dom_classes": [],
            "_model_module": "@jupyter-widgets/controls",
            "_model_module_version": "1.5.0",
            "_model_name": "HBoxModel",
            "_view_count": null,
            "_view_module": "@jupyter-widgets/controls",
            "_view_module_version": "1.5.0",
            "_view_name": "HBoxView",
            "box_style": "",
            "children": [
              "IPY_MODEL_da63da72c8744a53a27d2eca30f4dd2b",
              "IPY_MODEL_6caf62ce9594440caf4fbc458acd80ca",
              "IPY_MODEL_93a9e2de7e204ad38ff931ffdb558600"
            ],
            "layout": "IPY_MODEL_83193dc6c34d40fca38b0ea84e5aace0"
          }
        },
        "da63da72c8744a53a27d2eca30f4dd2b": {
          "model_module": "@jupyter-widgets/controls",
          "model_name": "HTMLModel",
          "model_module_version": "1.5.0",
          "state": {
            "_dom_classes": [],
            "_model_module": "@jupyter-widgets/controls",
            "_model_module_version": "1.5.0",
            "_model_name": "HTMLModel",
            "_view_count": null,
            "_view_module": "@jupyter-widgets/controls",
            "_view_module_version": "1.5.0",
            "_view_name": "HTMLView",
            "description": "",
            "description_tooltip": null,
            "layout": "IPY_MODEL_a1213bba66ba43669f19bdf4da7ccc12",
            "placeholder": "​",
            "style": "IPY_MODEL_ce305e0cbb7a4ed1a57277a68151a7d2",
            "value": "Downloading data files: 100%"
          }
        },
        "6caf62ce9594440caf4fbc458acd80ca": {
          "model_module": "@jupyter-widgets/controls",
          "model_name": "FloatProgressModel",
          "model_module_version": "1.5.0",
          "state": {
            "_dom_classes": [],
            "_model_module": "@jupyter-widgets/controls",
            "_model_module_version": "1.5.0",
            "_model_name": "FloatProgressModel",
            "_view_count": null,
            "_view_module": "@jupyter-widgets/controls",
            "_view_module_version": "1.5.0",
            "_view_name": "ProgressView",
            "bar_style": "success",
            "description": "",
            "description_tooltip": null,
            "layout": "IPY_MODEL_983fb04b309f4a49854f86f7ccdbf429",
            "max": 4,
            "min": 0,
            "orientation": "horizontal",
            "style": "IPY_MODEL_b5c70d238e7146da8e172c6106345feb",
            "value": 4
          }
        },
        "93a9e2de7e204ad38ff931ffdb558600": {
          "model_module": "@jupyter-widgets/controls",
          "model_name": "HTMLModel",
          "model_module_version": "1.5.0",
          "state": {
            "_dom_classes": [],
            "_model_module": "@jupyter-widgets/controls",
            "_model_module_version": "1.5.0",
            "_model_name": "HTMLModel",
            "_view_count": null,
            "_view_module": "@jupyter-widgets/controls",
            "_view_module_version": "1.5.0",
            "_view_name": "HTMLView",
            "description": "",
            "description_tooltip": null,
            "layout": "IPY_MODEL_3ca69d75267847bf9659d8a8a963fe86",
            "placeholder": "​",
            "style": "IPY_MODEL_ab6fb1f6154e4af5bbcc18f97bc768b0",
            "value": " 4/4 [01:34&lt;00:00, 13.57s/it]"
          }
        },
        "83193dc6c34d40fca38b0ea84e5aace0": {
          "model_module": "@jupyter-widgets/base",
          "model_name": "LayoutModel",
          "model_module_version": "1.2.0",
          "state": {
            "_model_module": "@jupyter-widgets/base",
            "_model_module_version": "1.2.0",
            "_model_name": "LayoutModel",
            "_view_count": null,
            "_view_module": "@jupyter-widgets/base",
            "_view_module_version": "1.2.0",
            "_view_name": "LayoutView",
            "align_content": null,
            "align_items": null,
            "align_self": null,
            "border": null,
            "bottom": null,
            "display": null,
            "flex": null,
            "flex_flow": null,
            "grid_area": null,
            "grid_auto_columns": null,
            "grid_auto_flow": null,
            "grid_auto_rows": null,
            "grid_column": null,
            "grid_gap": null,
            "grid_row": null,
            "grid_template_areas": null,
            "grid_template_columns": null,
            "grid_template_rows": null,
            "height": null,
            "justify_content": null,
            "justify_items": null,
            "left": null,
            "margin": null,
            "max_height": null,
            "max_width": null,
            "min_height": null,
            "min_width": null,
            "object_fit": null,
            "object_position": null,
            "order": null,
            "overflow": null,
            "overflow_x": null,
            "overflow_y": null,
            "padding": null,
            "right": null,
            "top": null,
            "visibility": null,
            "width": null
          }
        },
        "a1213bba66ba43669f19bdf4da7ccc12": {
          "model_module": "@jupyter-widgets/base",
          "model_name": "LayoutModel",
          "model_module_version": "1.2.0",
          "state": {
            "_model_module": "@jupyter-widgets/base",
            "_model_module_version": "1.2.0",
            "_model_name": "LayoutModel",
            "_view_count": null,
            "_view_module": "@jupyter-widgets/base",
            "_view_module_version": "1.2.0",
            "_view_name": "LayoutView",
            "align_content": null,
            "align_items": null,
            "align_self": null,
            "border": null,
            "bottom": null,
            "display": null,
            "flex": null,
            "flex_flow": null,
            "grid_area": null,
            "grid_auto_columns": null,
            "grid_auto_flow": null,
            "grid_auto_rows": null,
            "grid_column": null,
            "grid_gap": null,
            "grid_row": null,
            "grid_template_areas": null,
            "grid_template_columns": null,
            "grid_template_rows": null,
            "height": null,
            "justify_content": null,
            "justify_items": null,
            "left": null,
            "margin": null,
            "max_height": null,
            "max_width": null,
            "min_height": null,
            "min_width": null,
            "object_fit": null,
            "object_position": null,
            "order": null,
            "overflow": null,
            "overflow_x": null,
            "overflow_y": null,
            "padding": null,
            "right": null,
            "top": null,
            "visibility": null,
            "width": null
          }
        },
        "ce305e0cbb7a4ed1a57277a68151a7d2": {
          "model_module": "@jupyter-widgets/controls",
          "model_name": "DescriptionStyleModel",
          "model_module_version": "1.5.0",
          "state": {
            "_model_module": "@jupyter-widgets/controls",
            "_model_module_version": "1.5.0",
            "_model_name": "DescriptionStyleModel",
            "_view_count": null,
            "_view_module": "@jupyter-widgets/base",
            "_view_module_version": "1.2.0",
            "_view_name": "StyleView",
            "description_width": ""
          }
        },
        "983fb04b309f4a49854f86f7ccdbf429": {
          "model_module": "@jupyter-widgets/base",
          "model_name": "LayoutModel",
          "model_module_version": "1.2.0",
          "state": {
            "_model_module": "@jupyter-widgets/base",
            "_model_module_version": "1.2.0",
            "_model_name": "LayoutModel",
            "_view_count": null,
            "_view_module": "@jupyter-widgets/base",
            "_view_module_version": "1.2.0",
            "_view_name": "LayoutView",
            "align_content": null,
            "align_items": null,
            "align_self": null,
            "border": null,
            "bottom": null,
            "display": null,
            "flex": null,
            "flex_flow": null,
            "grid_area": null,
            "grid_auto_columns": null,
            "grid_auto_flow": null,
            "grid_auto_rows": null,
            "grid_column": null,
            "grid_gap": null,
            "grid_row": null,
            "grid_template_areas": null,
            "grid_template_columns": null,
            "grid_template_rows": null,
            "height": null,
            "justify_content": null,
            "justify_items": null,
            "left": null,
            "margin": null,
            "max_height": null,
            "max_width": null,
            "min_height": null,
            "min_width": null,
            "object_fit": null,
            "object_position": null,
            "order": null,
            "overflow": null,
            "overflow_x": null,
            "overflow_y": null,
            "padding": null,
            "right": null,
            "top": null,
            "visibility": null,
            "width": null
          }
        },
        "b5c70d238e7146da8e172c6106345feb": {
          "model_module": "@jupyter-widgets/controls",
          "model_name": "ProgressStyleModel",
          "model_module_version": "1.5.0",
          "state": {
            "_model_module": "@jupyter-widgets/controls",
            "_model_module_version": "1.5.0",
            "_model_name": "ProgressStyleModel",
            "_view_count": null,
            "_view_module": "@jupyter-widgets/base",
            "_view_module_version": "1.2.0",
            "_view_name": "StyleView",
            "bar_color": null,
            "description_width": ""
          }
        },
        "3ca69d75267847bf9659d8a8a963fe86": {
          "model_module": "@jupyter-widgets/base",
          "model_name": "LayoutModel",
          "model_module_version": "1.2.0",
          "state": {
            "_model_module": "@jupyter-widgets/base",
            "_model_module_version": "1.2.0",
            "_model_name": "LayoutModel",
            "_view_count": null,
            "_view_module": "@jupyter-widgets/base",
            "_view_module_version": "1.2.0",
            "_view_name": "LayoutView",
            "align_content": null,
            "align_items": null,
            "align_self": null,
            "border": null,
            "bottom": null,
            "display": null,
            "flex": null,
            "flex_flow": null,
            "grid_area": null,
            "grid_auto_columns": null,
            "grid_auto_flow": null,
            "grid_auto_rows": null,
            "grid_column": null,
            "grid_gap": null,
            "grid_row": null,
            "grid_template_areas": null,
            "grid_template_columns": null,
            "grid_template_rows": null,
            "height": null,
            "justify_content": null,
            "justify_items": null,
            "left": null,
            "margin": null,
            "max_height": null,
            "max_width": null,
            "min_height": null,
            "min_width": null,
            "object_fit": null,
            "object_position": null,
            "order": null,
            "overflow": null,
            "overflow_x": null,
            "overflow_y": null,
            "padding": null,
            "right": null,
            "top": null,
            "visibility": null,
            "width": null
          }
        },
        "ab6fb1f6154e4af5bbcc18f97bc768b0": {
          "model_module": "@jupyter-widgets/controls",
          "model_name": "DescriptionStyleModel",
          "model_module_version": "1.5.0",
          "state": {
            "_model_module": "@jupyter-widgets/controls",
            "_model_module_version": "1.5.0",
            "_model_name": "DescriptionStyleModel",
            "_view_count": null,
            "_view_module": "@jupyter-widgets/base",
            "_view_module_version": "1.2.0",
            "_view_name": "StyleView",
            "description_width": ""
          }
        },
        "fb6769da2c794cd8a454a3463d6ed62f": {
          "model_module": "@jupyter-widgets/controls",
          "model_name": "HBoxModel",
          "model_module_version": "1.5.0",
          "state": {
            "_dom_classes": [],
            "_model_module": "@jupyter-widgets/controls",
            "_model_module_version": "1.5.0",
            "_model_name": "HBoxModel",
            "_view_count": null,
            "_view_module": "@jupyter-widgets/controls",
            "_view_module_version": "1.5.0",
            "_view_name": "HBoxView",
            "box_style": "",
            "children": [
              "IPY_MODEL_f370a660b6ff455fa89a4c08e2596d1d",
              "IPY_MODEL_c4a5f81dd9294675b6c738c12ad2331c",
              "IPY_MODEL_fefec07dd5344afea9e00713a2aead39"
            ],
            "layout": "IPY_MODEL_69d4c4f8f32e45a7a7c7ebbab5f3b2b2"
          }
        },
        "f370a660b6ff455fa89a4c08e2596d1d": {
          "model_module": "@jupyter-widgets/controls",
          "model_name": "HTMLModel",
          "model_module_version": "1.5.0",
          "state": {
            "_dom_classes": [],
            "_model_module": "@jupyter-widgets/controls",
            "_model_module_version": "1.5.0",
            "_model_name": "HTMLModel",
            "_view_count": null,
            "_view_module": "@jupyter-widgets/controls",
            "_view_module_version": "1.5.0",
            "_view_name": "HTMLView",
            "description": "",
            "description_tooltip": null,
            "layout": "IPY_MODEL_65053c9008514bacaf5fdf60f440c82e",
            "placeholder": "​",
            "style": "IPY_MODEL_218d37fc39d24db4ac8ff24ad663a59b",
            "value": "Downloading data: 100%"
          }
        },
        "c4a5f81dd9294675b6c738c12ad2331c": {
          "model_module": "@jupyter-widgets/controls",
          "model_name": "FloatProgressModel",
          "model_module_version": "1.5.0",
          "state": {
            "_dom_classes": [],
            "_model_module": "@jupyter-widgets/controls",
            "_model_module_version": "1.5.0",
            "_model_name": "FloatProgressModel",
            "_view_count": null,
            "_view_module": "@jupyter-widgets/controls",
            "_view_module_version": "1.5.0",
            "_view_name": "ProgressView",
            "bar_style": "success",
            "description": "",
            "description_tooltip": null,
            "layout": "IPY_MODEL_424ad0a9a4b74d1e9d9c2ead671fbd0c",
            "max": 26421880,
            "min": 0,
            "orientation": "horizontal",
            "style": "IPY_MODEL_ecb5333f89bc46beafb82ff66d51b55a",
            "value": 26421880
          }
        },
        "fefec07dd5344afea9e00713a2aead39": {
          "model_module": "@jupyter-widgets/controls",
          "model_name": "HTMLModel",
          "model_module_version": "1.5.0",
          "state": {
            "_dom_classes": [],
            "_model_module": "@jupyter-widgets/controls",
            "_model_module_version": "1.5.0",
            "_model_name": "HTMLModel",
            "_view_count": null,
            "_view_module": "@jupyter-widgets/controls",
            "_view_module_version": "1.5.0",
            "_view_name": "HTMLView",
            "description": "",
            "description_tooltip": null,
            "layout": "IPY_MODEL_63698f5a979b453abdf4d8f53fb3956d",
            "placeholder": "​",
            "style": "IPY_MODEL_459d11f6af8e40639dc89f8e05819068",
            "value": " 26.4M/26.4M [00:00&lt;00:00, 55.9MB/s]"
          }
        },
        "69d4c4f8f32e45a7a7c7ebbab5f3b2b2": {
          "model_module": "@jupyter-widgets/base",
          "model_name": "LayoutModel",
          "model_module_version": "1.2.0",
          "state": {
            "_model_module": "@jupyter-widgets/base",
            "_model_module_version": "1.2.0",
            "_model_name": "LayoutModel",
            "_view_count": null,
            "_view_module": "@jupyter-widgets/base",
            "_view_module_version": "1.2.0",
            "_view_name": "LayoutView",
            "align_content": null,
            "align_items": null,
            "align_self": null,
            "border": null,
            "bottom": null,
            "display": null,
            "flex": null,
            "flex_flow": null,
            "grid_area": null,
            "grid_auto_columns": null,
            "grid_auto_flow": null,
            "grid_auto_rows": null,
            "grid_column": null,
            "grid_gap": null,
            "grid_row": null,
            "grid_template_areas": null,
            "grid_template_columns": null,
            "grid_template_rows": null,
            "height": null,
            "justify_content": null,
            "justify_items": null,
            "left": null,
            "margin": null,
            "max_height": null,
            "max_width": null,
            "min_height": null,
            "min_width": null,
            "object_fit": null,
            "object_position": null,
            "order": null,
            "overflow": null,
            "overflow_x": null,
            "overflow_y": null,
            "padding": null,
            "right": null,
            "top": null,
            "visibility": null,
            "width": null
          }
        },
        "65053c9008514bacaf5fdf60f440c82e": {
          "model_module": "@jupyter-widgets/base",
          "model_name": "LayoutModel",
          "model_module_version": "1.2.0",
          "state": {
            "_model_module": "@jupyter-widgets/base",
            "_model_module_version": "1.2.0",
            "_model_name": "LayoutModel",
            "_view_count": null,
            "_view_module": "@jupyter-widgets/base",
            "_view_module_version": "1.2.0",
            "_view_name": "LayoutView",
            "align_content": null,
            "align_items": null,
            "align_self": null,
            "border": null,
            "bottom": null,
            "display": null,
            "flex": null,
            "flex_flow": null,
            "grid_area": null,
            "grid_auto_columns": null,
            "grid_auto_flow": null,
            "grid_auto_rows": null,
            "grid_column": null,
            "grid_gap": null,
            "grid_row": null,
            "grid_template_areas": null,
            "grid_template_columns": null,
            "grid_template_rows": null,
            "height": null,
            "justify_content": null,
            "justify_items": null,
            "left": null,
            "margin": null,
            "max_height": null,
            "max_width": null,
            "min_height": null,
            "min_width": null,
            "object_fit": null,
            "object_position": null,
            "order": null,
            "overflow": null,
            "overflow_x": null,
            "overflow_y": null,
            "padding": null,
            "right": null,
            "top": null,
            "visibility": null,
            "width": null
          }
        },
        "218d37fc39d24db4ac8ff24ad663a59b": {
          "model_module": "@jupyter-widgets/controls",
          "model_name": "DescriptionStyleModel",
          "model_module_version": "1.5.0",
          "state": {
            "_model_module": "@jupyter-widgets/controls",
            "_model_module_version": "1.5.0",
            "_model_name": "DescriptionStyleModel",
            "_view_count": null,
            "_view_module": "@jupyter-widgets/base",
            "_view_module_version": "1.2.0",
            "_view_name": "StyleView",
            "description_width": ""
          }
        },
        "424ad0a9a4b74d1e9d9c2ead671fbd0c": {
          "model_module": "@jupyter-widgets/base",
          "model_name": "LayoutModel",
          "model_module_version": "1.2.0",
          "state": {
            "_model_module": "@jupyter-widgets/base",
            "_model_module_version": "1.2.0",
            "_model_name": "LayoutModel",
            "_view_count": null,
            "_view_module": "@jupyter-widgets/base",
            "_view_module_version": "1.2.0",
            "_view_name": "LayoutView",
            "align_content": null,
            "align_items": null,
            "align_self": null,
            "border": null,
            "bottom": null,
            "display": null,
            "flex": null,
            "flex_flow": null,
            "grid_area": null,
            "grid_auto_columns": null,
            "grid_auto_flow": null,
            "grid_auto_rows": null,
            "grid_column": null,
            "grid_gap": null,
            "grid_row": null,
            "grid_template_areas": null,
            "grid_template_columns": null,
            "grid_template_rows": null,
            "height": null,
            "justify_content": null,
            "justify_items": null,
            "left": null,
            "margin": null,
            "max_height": null,
            "max_width": null,
            "min_height": null,
            "min_width": null,
            "object_fit": null,
            "object_position": null,
            "order": null,
            "overflow": null,
            "overflow_x": null,
            "overflow_y": null,
            "padding": null,
            "right": null,
            "top": null,
            "visibility": null,
            "width": null
          }
        },
        "ecb5333f89bc46beafb82ff66d51b55a": {
          "model_module": "@jupyter-widgets/controls",
          "model_name": "ProgressStyleModel",
          "model_module_version": "1.5.0",
          "state": {
            "_model_module": "@jupyter-widgets/controls",
            "_model_module_version": "1.5.0",
            "_model_name": "ProgressStyleModel",
            "_view_count": null,
            "_view_module": "@jupyter-widgets/base",
            "_view_module_version": "1.2.0",
            "_view_name": "StyleView",
            "bar_color": null,
            "description_width": ""
          }
        },
        "63698f5a979b453abdf4d8f53fb3956d": {
          "model_module": "@jupyter-widgets/base",
          "model_name": "LayoutModel",
          "model_module_version": "1.2.0",
          "state": {
            "_model_module": "@jupyter-widgets/base",
            "_model_module_version": "1.2.0",
            "_model_name": "LayoutModel",
            "_view_count": null,
            "_view_module": "@jupyter-widgets/base",
            "_view_module_version": "1.2.0",
            "_view_name": "LayoutView",
            "align_content": null,
            "align_items": null,
            "align_self": null,
            "border": null,
            "bottom": null,
            "display": null,
            "flex": null,
            "flex_flow": null,
            "grid_area": null,
            "grid_auto_columns": null,
            "grid_auto_flow": null,
            "grid_auto_rows": null,
            "grid_column": null,
            "grid_gap": null,
            "grid_row": null,
            "grid_template_areas": null,
            "grid_template_columns": null,
            "grid_template_rows": null,
            "height": null,
            "justify_content": null,
            "justify_items": null,
            "left": null,
            "margin": null,
            "max_height": null,
            "max_width": null,
            "min_height": null,
            "min_width": null,
            "object_fit": null,
            "object_position": null,
            "order": null,
            "overflow": null,
            "overflow_x": null,
            "overflow_y": null,
            "padding": null,
            "right": null,
            "top": null,
            "visibility": null,
            "width": null
          }
        },
        "459d11f6af8e40639dc89f8e05819068": {
          "model_module": "@jupyter-widgets/controls",
          "model_name": "DescriptionStyleModel",
          "model_module_version": "1.5.0",
          "state": {
            "_model_module": "@jupyter-widgets/controls",
            "_model_module_version": "1.5.0",
            "_model_name": "DescriptionStyleModel",
            "_view_count": null,
            "_view_module": "@jupyter-widgets/base",
            "_view_module_version": "1.2.0",
            "_view_name": "StyleView",
            "description_width": ""
          }
        },
        "03f3f8e73dc1476585995bd1a2af287e": {
          "model_module": "@jupyter-widgets/controls",
          "model_name": "HBoxModel",
          "model_module_version": "1.5.0",
          "state": {
            "_dom_classes": [],
            "_model_module": "@jupyter-widgets/controls",
            "_model_module_version": "1.5.0",
            "_model_name": "HBoxModel",
            "_view_count": null,
            "_view_module": "@jupyter-widgets/controls",
            "_view_module_version": "1.5.0",
            "_view_name": "HBoxView",
            "box_style": "",
            "children": [
              "IPY_MODEL_9802c670c92147c59a1f0c44d4194d5e",
              "IPY_MODEL_8ecf65f9c81f414eb0d24e41349f3a37",
              "IPY_MODEL_f50579b030cc4bb596c727eb0f9bfe12"
            ],
            "layout": "IPY_MODEL_2c7270963c664ce48dbf68a1eda86e27"
          }
        },
        "9802c670c92147c59a1f0c44d4194d5e": {
          "model_module": "@jupyter-widgets/controls",
          "model_name": "HTMLModel",
          "model_module_version": "1.5.0",
          "state": {
            "_dom_classes": [],
            "_model_module": "@jupyter-widgets/controls",
            "_model_module_version": "1.5.0",
            "_model_name": "HTMLModel",
            "_view_count": null,
            "_view_module": "@jupyter-widgets/controls",
            "_view_module_version": "1.5.0",
            "_view_name": "HTMLView",
            "description": "",
            "description_tooltip": null,
            "layout": "IPY_MODEL_d745e450b03a488d8df2548287919e36",
            "placeholder": "​",
            "style": "IPY_MODEL_e3b341db43584dd6ac098fcea18ea705",
            "value": "Downloading data: 100%"
          }
        },
        "8ecf65f9c81f414eb0d24e41349f3a37": {
          "model_module": "@jupyter-widgets/controls",
          "model_name": "FloatProgressModel",
          "model_module_version": "1.5.0",
          "state": {
            "_dom_classes": [],
            "_model_module": "@jupyter-widgets/controls",
            "_model_module_version": "1.5.0",
            "_model_name": "FloatProgressModel",
            "_view_count": null,
            "_view_module": "@jupyter-widgets/controls",
            "_view_module_version": "1.5.0",
            "_view_name": "ProgressView",
            "bar_style": "success",
            "description": "",
            "description_tooltip": null,
            "layout": "IPY_MODEL_4244a85b715649c9be79e2dc7189df87",
            "max": 29515,
            "min": 0,
            "orientation": "horizontal",
            "style": "IPY_MODEL_e97f8817996e4198b167bf25c7fd2746",
            "value": 29515
          }
        },
        "f50579b030cc4bb596c727eb0f9bfe12": {
          "model_module": "@jupyter-widgets/controls",
          "model_name": "HTMLModel",
          "model_module_version": "1.5.0",
          "state": {
            "_dom_classes": [],
            "_model_module": "@jupyter-widgets/controls",
            "_model_module_version": "1.5.0",
            "_model_name": "HTMLModel",
            "_view_count": null,
            "_view_module": "@jupyter-widgets/controls",
            "_view_module_version": "1.5.0",
            "_view_name": "HTMLView",
            "description": "",
            "description_tooltip": null,
            "layout": "IPY_MODEL_20ed2944d58e47b9bc48ab4d33e2153d",
            "placeholder": "​",
            "style": "IPY_MODEL_0e4db659a6a14518909e6a44fb009afc",
            "value": " 29.5k/29.5k [00:00&lt;00:00, 1.41MB/s]"
          }
        },
        "2c7270963c664ce48dbf68a1eda86e27": {
          "model_module": "@jupyter-widgets/base",
          "model_name": "LayoutModel",
          "model_module_version": "1.2.0",
          "state": {
            "_model_module": "@jupyter-widgets/base",
            "_model_module_version": "1.2.0",
            "_model_name": "LayoutModel",
            "_view_count": null,
            "_view_module": "@jupyter-widgets/base",
            "_view_module_version": "1.2.0",
            "_view_name": "LayoutView",
            "align_content": null,
            "align_items": null,
            "align_self": null,
            "border": null,
            "bottom": null,
            "display": null,
            "flex": null,
            "flex_flow": null,
            "grid_area": null,
            "grid_auto_columns": null,
            "grid_auto_flow": null,
            "grid_auto_rows": null,
            "grid_column": null,
            "grid_gap": null,
            "grid_row": null,
            "grid_template_areas": null,
            "grid_template_columns": null,
            "grid_template_rows": null,
            "height": null,
            "justify_content": null,
            "justify_items": null,
            "left": null,
            "margin": null,
            "max_height": null,
            "max_width": null,
            "min_height": null,
            "min_width": null,
            "object_fit": null,
            "object_position": null,
            "order": null,
            "overflow": null,
            "overflow_x": null,
            "overflow_y": null,
            "padding": null,
            "right": null,
            "top": null,
            "visibility": null,
            "width": null
          }
        },
        "d745e450b03a488d8df2548287919e36": {
          "model_module": "@jupyter-widgets/base",
          "model_name": "LayoutModel",
          "model_module_version": "1.2.0",
          "state": {
            "_model_module": "@jupyter-widgets/base",
            "_model_module_version": "1.2.0",
            "_model_name": "LayoutModel",
            "_view_count": null,
            "_view_module": "@jupyter-widgets/base",
            "_view_module_version": "1.2.0",
            "_view_name": "LayoutView",
            "align_content": null,
            "align_items": null,
            "align_self": null,
            "border": null,
            "bottom": null,
            "display": null,
            "flex": null,
            "flex_flow": null,
            "grid_area": null,
            "grid_auto_columns": null,
            "grid_auto_flow": null,
            "grid_auto_rows": null,
            "grid_column": null,
            "grid_gap": null,
            "grid_row": null,
            "grid_template_areas": null,
            "grid_template_columns": null,
            "grid_template_rows": null,
            "height": null,
            "justify_content": null,
            "justify_items": null,
            "left": null,
            "margin": null,
            "max_height": null,
            "max_width": null,
            "min_height": null,
            "min_width": null,
            "object_fit": null,
            "object_position": null,
            "order": null,
            "overflow": null,
            "overflow_x": null,
            "overflow_y": null,
            "padding": null,
            "right": null,
            "top": null,
            "visibility": null,
            "width": null
          }
        },
        "e3b341db43584dd6ac098fcea18ea705": {
          "model_module": "@jupyter-widgets/controls",
          "model_name": "DescriptionStyleModel",
          "model_module_version": "1.5.0",
          "state": {
            "_model_module": "@jupyter-widgets/controls",
            "_model_module_version": "1.5.0",
            "_model_name": "DescriptionStyleModel",
            "_view_count": null,
            "_view_module": "@jupyter-widgets/base",
            "_view_module_version": "1.2.0",
            "_view_name": "StyleView",
            "description_width": ""
          }
        },
        "4244a85b715649c9be79e2dc7189df87": {
          "model_module": "@jupyter-widgets/base",
          "model_name": "LayoutModel",
          "model_module_version": "1.2.0",
          "state": {
            "_model_module": "@jupyter-widgets/base",
            "_model_module_version": "1.2.0",
            "_model_name": "LayoutModel",
            "_view_count": null,
            "_view_module": "@jupyter-widgets/base",
            "_view_module_version": "1.2.0",
            "_view_name": "LayoutView",
            "align_content": null,
            "align_items": null,
            "align_self": null,
            "border": null,
            "bottom": null,
            "display": null,
            "flex": null,
            "flex_flow": null,
            "grid_area": null,
            "grid_auto_columns": null,
            "grid_auto_flow": null,
            "grid_auto_rows": null,
            "grid_column": null,
            "grid_gap": null,
            "grid_row": null,
            "grid_template_areas": null,
            "grid_template_columns": null,
            "grid_template_rows": null,
            "height": null,
            "justify_content": null,
            "justify_items": null,
            "left": null,
            "margin": null,
            "max_height": null,
            "max_width": null,
            "min_height": null,
            "min_width": null,
            "object_fit": null,
            "object_position": null,
            "order": null,
            "overflow": null,
            "overflow_x": null,
            "overflow_y": null,
            "padding": null,
            "right": null,
            "top": null,
            "visibility": null,
            "width": null
          }
        },
        "e97f8817996e4198b167bf25c7fd2746": {
          "model_module": "@jupyter-widgets/controls",
          "model_name": "ProgressStyleModel",
          "model_module_version": "1.5.0",
          "state": {
            "_model_module": "@jupyter-widgets/controls",
            "_model_module_version": "1.5.0",
            "_model_name": "ProgressStyleModel",
            "_view_count": null,
            "_view_module": "@jupyter-widgets/base",
            "_view_module_version": "1.2.0",
            "_view_name": "StyleView",
            "bar_color": null,
            "description_width": ""
          }
        },
        "20ed2944d58e47b9bc48ab4d33e2153d": {
          "model_module": "@jupyter-widgets/base",
          "model_name": "LayoutModel",
          "model_module_version": "1.2.0",
          "state": {
            "_model_module": "@jupyter-widgets/base",
            "_model_module_version": "1.2.0",
            "_model_name": "LayoutModel",
            "_view_count": null,
            "_view_module": "@jupyter-widgets/base",
            "_view_module_version": "1.2.0",
            "_view_name": "LayoutView",
            "align_content": null,
            "align_items": null,
            "align_self": null,
            "border": null,
            "bottom": null,
            "display": null,
            "flex": null,
            "flex_flow": null,
            "grid_area": null,
            "grid_auto_columns": null,
            "grid_auto_flow": null,
            "grid_auto_rows": null,
            "grid_column": null,
            "grid_gap": null,
            "grid_row": null,
            "grid_template_areas": null,
            "grid_template_columns": null,
            "grid_template_rows": null,
            "height": null,
            "justify_content": null,
            "justify_items": null,
            "left": null,
            "margin": null,
            "max_height": null,
            "max_width": null,
            "min_height": null,
            "min_width": null,
            "object_fit": null,
            "object_position": null,
            "order": null,
            "overflow": null,
            "overflow_x": null,
            "overflow_y": null,
            "padding": null,
            "right": null,
            "top": null,
            "visibility": null,
            "width": null
          }
        },
        "0e4db659a6a14518909e6a44fb009afc": {
          "model_module": "@jupyter-widgets/controls",
          "model_name": "DescriptionStyleModel",
          "model_module_version": "1.5.0",
          "state": {
            "_model_module": "@jupyter-widgets/controls",
            "_model_module_version": "1.5.0",
            "_model_name": "DescriptionStyleModel",
            "_view_count": null,
            "_view_module": "@jupyter-widgets/base",
            "_view_module_version": "1.2.0",
            "_view_name": "StyleView",
            "description_width": ""
          }
        },
        "d2c404c15b3c4e728113753ecda02b6b": {
          "model_module": "@jupyter-widgets/controls",
          "model_name": "HBoxModel",
          "model_module_version": "1.5.0",
          "state": {
            "_dom_classes": [],
            "_model_module": "@jupyter-widgets/controls",
            "_model_module_version": "1.5.0",
            "_model_name": "HBoxModel",
            "_view_count": null,
            "_view_module": "@jupyter-widgets/controls",
            "_view_module_version": "1.5.0",
            "_view_name": "HBoxView",
            "box_style": "",
            "children": [
              "IPY_MODEL_049b980c18cb4fe5bbda0b746c85b550",
              "IPY_MODEL_a595c9290cb6468296745a3bbdc21e7c",
              "IPY_MODEL_e5a047b8f9ae4a9eb312fb45ccdead60"
            ],
            "layout": "IPY_MODEL_7552ab12f960483da6b616592c73d875"
          }
        },
        "049b980c18cb4fe5bbda0b746c85b550": {
          "model_module": "@jupyter-widgets/controls",
          "model_name": "HTMLModel",
          "model_module_version": "1.5.0",
          "state": {
            "_dom_classes": [],
            "_model_module": "@jupyter-widgets/controls",
            "_model_module_version": "1.5.0",
            "_model_name": "HTMLModel",
            "_view_count": null,
            "_view_module": "@jupyter-widgets/controls",
            "_view_module_version": "1.5.0",
            "_view_name": "HTMLView",
            "description": "",
            "description_tooltip": null,
            "layout": "IPY_MODEL_bc1a4f8608664d85aeaad635e3ef3a18",
            "placeholder": "​",
            "style": "IPY_MODEL_e1451496a842400ea1f637ab9f11d216",
            "value": "Downloading data: 100%"
          }
        },
        "a595c9290cb6468296745a3bbdc21e7c": {
          "model_module": "@jupyter-widgets/controls",
          "model_name": "FloatProgressModel",
          "model_module_version": "1.5.0",
          "state": {
            "_dom_classes": [],
            "_model_module": "@jupyter-widgets/controls",
            "_model_module_version": "1.5.0",
            "_model_name": "FloatProgressModel",
            "_view_count": null,
            "_view_module": "@jupyter-widgets/controls",
            "_view_module_version": "1.5.0",
            "_view_name": "ProgressView",
            "bar_style": "success",
            "description": "",
            "description_tooltip": null,
            "layout": "IPY_MODEL_b09d6731730d459aa618b2cd1f01dc36",
            "max": 4422102,
            "min": 0,
            "orientation": "horizontal",
            "style": "IPY_MODEL_087dfba48f0646928ebf2f0974b0f029",
            "value": 4422102
          }
        },
        "e5a047b8f9ae4a9eb312fb45ccdead60": {
          "model_module": "@jupyter-widgets/controls",
          "model_name": "HTMLModel",
          "model_module_version": "1.5.0",
          "state": {
            "_dom_classes": [],
            "_model_module": "@jupyter-widgets/controls",
            "_model_module_version": "1.5.0",
            "_model_name": "HTMLModel",
            "_view_count": null,
            "_view_module": "@jupyter-widgets/controls",
            "_view_module_version": "1.5.0",
            "_view_name": "HTMLView",
            "description": "",
            "description_tooltip": null,
            "layout": "IPY_MODEL_1728139c73ac4c5181818e0159ce75de",
            "placeholder": "​",
            "style": "IPY_MODEL_d70c62a26f064124877f3beb2e1ea10f",
            "value": " 4.42M/4.42M [00:00&lt;00:00, 10.8MB/s]"
          }
        },
        "7552ab12f960483da6b616592c73d875": {
          "model_module": "@jupyter-widgets/base",
          "model_name": "LayoutModel",
          "model_module_version": "1.2.0",
          "state": {
            "_model_module": "@jupyter-widgets/base",
            "_model_module_version": "1.2.0",
            "_model_name": "LayoutModel",
            "_view_count": null,
            "_view_module": "@jupyter-widgets/base",
            "_view_module_version": "1.2.0",
            "_view_name": "LayoutView",
            "align_content": null,
            "align_items": null,
            "align_self": null,
            "border": null,
            "bottom": null,
            "display": null,
            "flex": null,
            "flex_flow": null,
            "grid_area": null,
            "grid_auto_columns": null,
            "grid_auto_flow": null,
            "grid_auto_rows": null,
            "grid_column": null,
            "grid_gap": null,
            "grid_row": null,
            "grid_template_areas": null,
            "grid_template_columns": null,
            "grid_template_rows": null,
            "height": null,
            "justify_content": null,
            "justify_items": null,
            "left": null,
            "margin": null,
            "max_height": null,
            "max_width": null,
            "min_height": null,
            "min_width": null,
            "object_fit": null,
            "object_position": null,
            "order": null,
            "overflow": null,
            "overflow_x": null,
            "overflow_y": null,
            "padding": null,
            "right": null,
            "top": null,
            "visibility": null,
            "width": null
          }
        },
        "bc1a4f8608664d85aeaad635e3ef3a18": {
          "model_module": "@jupyter-widgets/base",
          "model_name": "LayoutModel",
          "model_module_version": "1.2.0",
          "state": {
            "_model_module": "@jupyter-widgets/base",
            "_model_module_version": "1.2.0",
            "_model_name": "LayoutModel",
            "_view_count": null,
            "_view_module": "@jupyter-widgets/base",
            "_view_module_version": "1.2.0",
            "_view_name": "LayoutView",
            "align_content": null,
            "align_items": null,
            "align_self": null,
            "border": null,
            "bottom": null,
            "display": null,
            "flex": null,
            "flex_flow": null,
            "grid_area": null,
            "grid_auto_columns": null,
            "grid_auto_flow": null,
            "grid_auto_rows": null,
            "grid_column": null,
            "grid_gap": null,
            "grid_row": null,
            "grid_template_areas": null,
            "grid_template_columns": null,
            "grid_template_rows": null,
            "height": null,
            "justify_content": null,
            "justify_items": null,
            "left": null,
            "margin": null,
            "max_height": null,
            "max_width": null,
            "min_height": null,
            "min_width": null,
            "object_fit": null,
            "object_position": null,
            "order": null,
            "overflow": null,
            "overflow_x": null,
            "overflow_y": null,
            "padding": null,
            "right": null,
            "top": null,
            "visibility": null,
            "width": null
          }
        },
        "e1451496a842400ea1f637ab9f11d216": {
          "model_module": "@jupyter-widgets/controls",
          "model_name": "DescriptionStyleModel",
          "model_module_version": "1.5.0",
          "state": {
            "_model_module": "@jupyter-widgets/controls",
            "_model_module_version": "1.5.0",
            "_model_name": "DescriptionStyleModel",
            "_view_count": null,
            "_view_module": "@jupyter-widgets/base",
            "_view_module_version": "1.2.0",
            "_view_name": "StyleView",
            "description_width": ""
          }
        },
        "b09d6731730d459aa618b2cd1f01dc36": {
          "model_module": "@jupyter-widgets/base",
          "model_name": "LayoutModel",
          "model_module_version": "1.2.0",
          "state": {
            "_model_module": "@jupyter-widgets/base",
            "_model_module_version": "1.2.0",
            "_model_name": "LayoutModel",
            "_view_count": null,
            "_view_module": "@jupyter-widgets/base",
            "_view_module_version": "1.2.0",
            "_view_name": "LayoutView",
            "align_content": null,
            "align_items": null,
            "align_self": null,
            "border": null,
            "bottom": null,
            "display": null,
            "flex": null,
            "flex_flow": null,
            "grid_area": null,
            "grid_auto_columns": null,
            "grid_auto_flow": null,
            "grid_auto_rows": null,
            "grid_column": null,
            "grid_gap": null,
            "grid_row": null,
            "grid_template_areas": null,
            "grid_template_columns": null,
            "grid_template_rows": null,
            "height": null,
            "justify_content": null,
            "justify_items": null,
            "left": null,
            "margin": null,
            "max_height": null,
            "max_width": null,
            "min_height": null,
            "min_width": null,
            "object_fit": null,
            "object_position": null,
            "order": null,
            "overflow": null,
            "overflow_x": null,
            "overflow_y": null,
            "padding": null,
            "right": null,
            "top": null,
            "visibility": null,
            "width": null
          }
        },
        "087dfba48f0646928ebf2f0974b0f029": {
          "model_module": "@jupyter-widgets/controls",
          "model_name": "ProgressStyleModel",
          "model_module_version": "1.5.0",
          "state": {
            "_model_module": "@jupyter-widgets/controls",
            "_model_module_version": "1.5.0",
            "_model_name": "ProgressStyleModel",
            "_view_count": null,
            "_view_module": "@jupyter-widgets/base",
            "_view_module_version": "1.2.0",
            "_view_name": "StyleView",
            "bar_color": null,
            "description_width": ""
          }
        },
        "1728139c73ac4c5181818e0159ce75de": {
          "model_module": "@jupyter-widgets/base",
          "model_name": "LayoutModel",
          "model_module_version": "1.2.0",
          "state": {
            "_model_module": "@jupyter-widgets/base",
            "_model_module_version": "1.2.0",
            "_model_name": "LayoutModel",
            "_view_count": null,
            "_view_module": "@jupyter-widgets/base",
            "_view_module_version": "1.2.0",
            "_view_name": "LayoutView",
            "align_content": null,
            "align_items": null,
            "align_self": null,
            "border": null,
            "bottom": null,
            "display": null,
            "flex": null,
            "flex_flow": null,
            "grid_area": null,
            "grid_auto_columns": null,
            "grid_auto_flow": null,
            "grid_auto_rows": null,
            "grid_column": null,
            "grid_gap": null,
            "grid_row": null,
            "grid_template_areas": null,
            "grid_template_columns": null,
            "grid_template_rows": null,
            "height": null,
            "justify_content": null,
            "justify_items": null,
            "left": null,
            "margin": null,
            "max_height": null,
            "max_width": null,
            "min_height": null,
            "min_width": null,
            "object_fit": null,
            "object_position": null,
            "order": null,
            "overflow": null,
            "overflow_x": null,
            "overflow_y": null,
            "padding": null,
            "right": null,
            "top": null,
            "visibility": null,
            "width": null
          }
        },
        "d70c62a26f064124877f3beb2e1ea10f": {
          "model_module": "@jupyter-widgets/controls",
          "model_name": "DescriptionStyleModel",
          "model_module_version": "1.5.0",
          "state": {
            "_model_module": "@jupyter-widgets/controls",
            "_model_module_version": "1.5.0",
            "_model_name": "DescriptionStyleModel",
            "_view_count": null,
            "_view_module": "@jupyter-widgets/base",
            "_view_module_version": "1.2.0",
            "_view_name": "StyleView",
            "description_width": ""
          }
        },
        "c690b5930df347c2af41e2caaf698444": {
          "model_module": "@jupyter-widgets/controls",
          "model_name": "HBoxModel",
          "model_module_version": "1.5.0",
          "state": {
            "_dom_classes": [],
            "_model_module": "@jupyter-widgets/controls",
            "_model_module_version": "1.5.0",
            "_model_name": "HBoxModel",
            "_view_count": null,
            "_view_module": "@jupyter-widgets/controls",
            "_view_module_version": "1.5.0",
            "_view_name": "HBoxView",
            "box_style": "",
            "children": [
              "IPY_MODEL_e6193061ff6a4ee38336c3900c5eef78",
              "IPY_MODEL_1e979c499cd8449e88a068bf17d0f3a8",
              "IPY_MODEL_21bddc51704448e19d581fa41ea9c15c"
            ],
            "layout": "IPY_MODEL_467b58c64d8643488928279e19586c46"
          }
        },
        "e6193061ff6a4ee38336c3900c5eef78": {
          "model_module": "@jupyter-widgets/controls",
          "model_name": "HTMLModel",
          "model_module_version": "1.5.0",
          "state": {
            "_dom_classes": [],
            "_model_module": "@jupyter-widgets/controls",
            "_model_module_version": "1.5.0",
            "_model_name": "HTMLModel",
            "_view_count": null,
            "_view_module": "@jupyter-widgets/controls",
            "_view_module_version": "1.5.0",
            "_view_name": "HTMLView",
            "description": "",
            "description_tooltip": null,
            "layout": "IPY_MODEL_00e5a094744845969c482f501b7ef963",
            "placeholder": "​",
            "style": "IPY_MODEL_78bc1d6c046b4b1db96e247aef67a6d0",
            "value": "Downloading data: 100%"
          }
        },
        "1e979c499cd8449e88a068bf17d0f3a8": {
          "model_module": "@jupyter-widgets/controls",
          "model_name": "FloatProgressModel",
          "model_module_version": "1.5.0",
          "state": {
            "_dom_classes": [],
            "_model_module": "@jupyter-widgets/controls",
            "_model_module_version": "1.5.0",
            "_model_name": "FloatProgressModel",
            "_view_count": null,
            "_view_module": "@jupyter-widgets/controls",
            "_view_module_version": "1.5.0",
            "_view_name": "ProgressView",
            "bar_style": "success",
            "description": "",
            "description_tooltip": null,
            "layout": "IPY_MODEL_ca57423c17934ec6a16ce9efb4be7437",
            "max": 5148,
            "min": 0,
            "orientation": "horizontal",
            "style": "IPY_MODEL_1694c13d333c4dcf85dd2498f76e1c86",
            "value": 5148
          }
        },
        "21bddc51704448e19d581fa41ea9c15c": {
          "model_module": "@jupyter-widgets/controls",
          "model_name": "HTMLModel",
          "model_module_version": "1.5.0",
          "state": {
            "_dom_classes": [],
            "_model_module": "@jupyter-widgets/controls",
            "_model_module_version": "1.5.0",
            "_model_name": "HTMLModel",
            "_view_count": null,
            "_view_module": "@jupyter-widgets/controls",
            "_view_module_version": "1.5.0",
            "_view_name": "HTMLView",
            "description": "",
            "description_tooltip": null,
            "layout": "IPY_MODEL_d65416bb103e4dc3a0580cc939950a64",
            "placeholder": "​",
            "style": "IPY_MODEL_dc5f462c20da4ecea4602933baf202dc",
            "value": " 5.15k/5.15k [00:00&lt;00:00, 313kB/s]"
          }
        },
        "467b58c64d8643488928279e19586c46": {
          "model_module": "@jupyter-widgets/base",
          "model_name": "LayoutModel",
          "model_module_version": "1.2.0",
          "state": {
            "_model_module": "@jupyter-widgets/base",
            "_model_module_version": "1.2.0",
            "_model_name": "LayoutModel",
            "_view_count": null,
            "_view_module": "@jupyter-widgets/base",
            "_view_module_version": "1.2.0",
            "_view_name": "LayoutView",
            "align_content": null,
            "align_items": null,
            "align_self": null,
            "border": null,
            "bottom": null,
            "display": null,
            "flex": null,
            "flex_flow": null,
            "grid_area": null,
            "grid_auto_columns": null,
            "grid_auto_flow": null,
            "grid_auto_rows": null,
            "grid_column": null,
            "grid_gap": null,
            "grid_row": null,
            "grid_template_areas": null,
            "grid_template_columns": null,
            "grid_template_rows": null,
            "height": null,
            "justify_content": null,
            "justify_items": null,
            "left": null,
            "margin": null,
            "max_height": null,
            "max_width": null,
            "min_height": null,
            "min_width": null,
            "object_fit": null,
            "object_position": null,
            "order": null,
            "overflow": null,
            "overflow_x": null,
            "overflow_y": null,
            "padding": null,
            "right": null,
            "top": null,
            "visibility": null,
            "width": null
          }
        },
        "00e5a094744845969c482f501b7ef963": {
          "model_module": "@jupyter-widgets/base",
          "model_name": "LayoutModel",
          "model_module_version": "1.2.0",
          "state": {
            "_model_module": "@jupyter-widgets/base",
            "_model_module_version": "1.2.0",
            "_model_name": "LayoutModel",
            "_view_count": null,
            "_view_module": "@jupyter-widgets/base",
            "_view_module_version": "1.2.0",
            "_view_name": "LayoutView",
            "align_content": null,
            "align_items": null,
            "align_self": null,
            "border": null,
            "bottom": null,
            "display": null,
            "flex": null,
            "flex_flow": null,
            "grid_area": null,
            "grid_auto_columns": null,
            "grid_auto_flow": null,
            "grid_auto_rows": null,
            "grid_column": null,
            "grid_gap": null,
            "grid_row": null,
            "grid_template_areas": null,
            "grid_template_columns": null,
            "grid_template_rows": null,
            "height": null,
            "justify_content": null,
            "justify_items": null,
            "left": null,
            "margin": null,
            "max_height": null,
            "max_width": null,
            "min_height": null,
            "min_width": null,
            "object_fit": null,
            "object_position": null,
            "order": null,
            "overflow": null,
            "overflow_x": null,
            "overflow_y": null,
            "padding": null,
            "right": null,
            "top": null,
            "visibility": null,
            "width": null
          }
        },
        "78bc1d6c046b4b1db96e247aef67a6d0": {
          "model_module": "@jupyter-widgets/controls",
          "model_name": "DescriptionStyleModel",
          "model_module_version": "1.5.0",
          "state": {
            "_model_module": "@jupyter-widgets/controls",
            "_model_module_version": "1.5.0",
            "_model_name": "DescriptionStyleModel",
            "_view_count": null,
            "_view_module": "@jupyter-widgets/base",
            "_view_module_version": "1.2.0",
            "_view_name": "StyleView",
            "description_width": ""
          }
        },
        "ca57423c17934ec6a16ce9efb4be7437": {
          "model_module": "@jupyter-widgets/base",
          "model_name": "LayoutModel",
          "model_module_version": "1.2.0",
          "state": {
            "_model_module": "@jupyter-widgets/base",
            "_model_module_version": "1.2.0",
            "_model_name": "LayoutModel",
            "_view_count": null,
            "_view_module": "@jupyter-widgets/base",
            "_view_module_version": "1.2.0",
            "_view_name": "LayoutView",
            "align_content": null,
            "align_items": null,
            "align_self": null,
            "border": null,
            "bottom": null,
            "display": null,
            "flex": null,
            "flex_flow": null,
            "grid_area": null,
            "grid_auto_columns": null,
            "grid_auto_flow": null,
            "grid_auto_rows": null,
            "grid_column": null,
            "grid_gap": null,
            "grid_row": null,
            "grid_template_areas": null,
            "grid_template_columns": null,
            "grid_template_rows": null,
            "height": null,
            "justify_content": null,
            "justify_items": null,
            "left": null,
            "margin": null,
            "max_height": null,
            "max_width": null,
            "min_height": null,
            "min_width": null,
            "object_fit": null,
            "object_position": null,
            "order": null,
            "overflow": null,
            "overflow_x": null,
            "overflow_y": null,
            "padding": null,
            "right": null,
            "top": null,
            "visibility": null,
            "width": null
          }
        },
        "1694c13d333c4dcf85dd2498f76e1c86": {
          "model_module": "@jupyter-widgets/controls",
          "model_name": "ProgressStyleModel",
          "model_module_version": "1.5.0",
          "state": {
            "_model_module": "@jupyter-widgets/controls",
            "_model_module_version": "1.5.0",
            "_model_name": "ProgressStyleModel",
            "_view_count": null,
            "_view_module": "@jupyter-widgets/base",
            "_view_module_version": "1.2.0",
            "_view_name": "StyleView",
            "bar_color": null,
            "description_width": ""
          }
        },
        "d65416bb103e4dc3a0580cc939950a64": {
          "model_module": "@jupyter-widgets/base",
          "model_name": "LayoutModel",
          "model_module_version": "1.2.0",
          "state": {
            "_model_module": "@jupyter-widgets/base",
            "_model_module_version": "1.2.0",
            "_model_name": "LayoutModel",
            "_view_count": null,
            "_view_module": "@jupyter-widgets/base",
            "_view_module_version": "1.2.0",
            "_view_name": "LayoutView",
            "align_content": null,
            "align_items": null,
            "align_self": null,
            "border": null,
            "bottom": null,
            "display": null,
            "flex": null,
            "flex_flow": null,
            "grid_area": null,
            "grid_auto_columns": null,
            "grid_auto_flow": null,
            "grid_auto_rows": null,
            "grid_column": null,
            "grid_gap": null,
            "grid_row": null,
            "grid_template_areas": null,
            "grid_template_columns": null,
            "grid_template_rows": null,
            "height": null,
            "justify_content": null,
            "justify_items": null,
            "left": null,
            "margin": null,
            "max_height": null,
            "max_width": null,
            "min_height": null,
            "min_width": null,
            "object_fit": null,
            "object_position": null,
            "order": null,
            "overflow": null,
            "overflow_x": null,
            "overflow_y": null,
            "padding": null,
            "right": null,
            "top": null,
            "visibility": null,
            "width": null
          }
        },
        "dc5f462c20da4ecea4602933baf202dc": {
          "model_module": "@jupyter-widgets/controls",
          "model_name": "DescriptionStyleModel",
          "model_module_version": "1.5.0",
          "state": {
            "_model_module": "@jupyter-widgets/controls",
            "_model_module_version": "1.5.0",
            "_model_name": "DescriptionStyleModel",
            "_view_count": null,
            "_view_module": "@jupyter-widgets/base",
            "_view_module_version": "1.2.0",
            "_view_name": "StyleView",
            "description_width": ""
          }
        },
        "1ffb795328c54cb49df00a65522394b4": {
          "model_module": "@jupyter-widgets/controls",
          "model_name": "HBoxModel",
          "model_module_version": "1.5.0",
          "state": {
            "_dom_classes": [],
            "_model_module": "@jupyter-widgets/controls",
            "_model_module_version": "1.5.0",
            "_model_name": "HBoxModel",
            "_view_count": null,
            "_view_module": "@jupyter-widgets/controls",
            "_view_module_version": "1.5.0",
            "_view_name": "HBoxView",
            "box_style": "",
            "children": [
              "IPY_MODEL_891f0eeba41b436780e5b14ee9aaa581",
              "IPY_MODEL_594ac431fd7841ab8ce375a886de64b1",
              "IPY_MODEL_4787776d51644780b1c18c2b075b0e13"
            ],
            "layout": "IPY_MODEL_5876bba7533b4176af45269a0cccdc34"
          }
        },
        "891f0eeba41b436780e5b14ee9aaa581": {
          "model_module": "@jupyter-widgets/controls",
          "model_name": "HTMLModel",
          "model_module_version": "1.5.0",
          "state": {
            "_dom_classes": [],
            "_model_module": "@jupyter-widgets/controls",
            "_model_module_version": "1.5.0",
            "_model_name": "HTMLModel",
            "_view_count": null,
            "_view_module": "@jupyter-widgets/controls",
            "_view_module_version": "1.5.0",
            "_view_name": "HTMLView",
            "description": "",
            "description_tooltip": null,
            "layout": "IPY_MODEL_32151dc0b7644c418efe65fbfa27b1de",
            "placeholder": "​",
            "style": "IPY_MODEL_067e7ca6b37340aaaea8b257cb70115e",
            "value": "Extracting data files: 100%"
          }
        },
        "594ac431fd7841ab8ce375a886de64b1": {
          "model_module": "@jupyter-widgets/controls",
          "model_name": "FloatProgressModel",
          "model_module_version": "1.5.0",
          "state": {
            "_dom_classes": [],
            "_model_module": "@jupyter-widgets/controls",
            "_model_module_version": "1.5.0",
            "_model_name": "FloatProgressModel",
            "_view_count": null,
            "_view_module": "@jupyter-widgets/controls",
            "_view_module_version": "1.5.0",
            "_view_name": "ProgressView",
            "bar_style": "success",
            "description": "",
            "description_tooltip": null,
            "layout": "IPY_MODEL_9d5b9183e01c4e40aba14c6756fb61f3",
            "max": 4,
            "min": 0,
            "orientation": "horizontal",
            "style": "IPY_MODEL_9c72c822609a49029a64dd5da2c5408c",
            "value": 4
          }
        },
        "4787776d51644780b1c18c2b075b0e13": {
          "model_module": "@jupyter-widgets/controls",
          "model_name": "HTMLModel",
          "model_module_version": "1.5.0",
          "state": {
            "_dom_classes": [],
            "_model_module": "@jupyter-widgets/controls",
            "_model_module_version": "1.5.0",
            "_model_name": "HTMLModel",
            "_view_count": null,
            "_view_module": "@jupyter-widgets/controls",
            "_view_module_version": "1.5.0",
            "_view_name": "HTMLView",
            "description": "",
            "description_tooltip": null,
            "layout": "IPY_MODEL_f27a92224ec64694a3130346f0cf8606",
            "placeholder": "​",
            "style": "IPY_MODEL_d08f0cd11ab74396a78425619c9bfff3",
            "value": " 4/4 [00:00&lt;00:00,  2.75it/s]"
          }
        },
        "5876bba7533b4176af45269a0cccdc34": {
          "model_module": "@jupyter-widgets/base",
          "model_name": "LayoutModel",
          "model_module_version": "1.2.0",
          "state": {
            "_model_module": "@jupyter-widgets/base",
            "_model_module_version": "1.2.0",
            "_model_name": "LayoutModel",
            "_view_count": null,
            "_view_module": "@jupyter-widgets/base",
            "_view_module_version": "1.2.0",
            "_view_name": "LayoutView",
            "align_content": null,
            "align_items": null,
            "align_self": null,
            "border": null,
            "bottom": null,
            "display": null,
            "flex": null,
            "flex_flow": null,
            "grid_area": null,
            "grid_auto_columns": null,
            "grid_auto_flow": null,
            "grid_auto_rows": null,
            "grid_column": null,
            "grid_gap": null,
            "grid_row": null,
            "grid_template_areas": null,
            "grid_template_columns": null,
            "grid_template_rows": null,
            "height": null,
            "justify_content": null,
            "justify_items": null,
            "left": null,
            "margin": null,
            "max_height": null,
            "max_width": null,
            "min_height": null,
            "min_width": null,
            "object_fit": null,
            "object_position": null,
            "order": null,
            "overflow": null,
            "overflow_x": null,
            "overflow_y": null,
            "padding": null,
            "right": null,
            "top": null,
            "visibility": null,
            "width": null
          }
        },
        "32151dc0b7644c418efe65fbfa27b1de": {
          "model_module": "@jupyter-widgets/base",
          "model_name": "LayoutModel",
          "model_module_version": "1.2.0",
          "state": {
            "_model_module": "@jupyter-widgets/base",
            "_model_module_version": "1.2.0",
            "_model_name": "LayoutModel",
            "_view_count": null,
            "_view_module": "@jupyter-widgets/base",
            "_view_module_version": "1.2.0",
            "_view_name": "LayoutView",
            "align_content": null,
            "align_items": null,
            "align_self": null,
            "border": null,
            "bottom": null,
            "display": null,
            "flex": null,
            "flex_flow": null,
            "grid_area": null,
            "grid_auto_columns": null,
            "grid_auto_flow": null,
            "grid_auto_rows": null,
            "grid_column": null,
            "grid_gap": null,
            "grid_row": null,
            "grid_template_areas": null,
            "grid_template_columns": null,
            "grid_template_rows": null,
            "height": null,
            "justify_content": null,
            "justify_items": null,
            "left": null,
            "margin": null,
            "max_height": null,
            "max_width": null,
            "min_height": null,
            "min_width": null,
            "object_fit": null,
            "object_position": null,
            "order": null,
            "overflow": null,
            "overflow_x": null,
            "overflow_y": null,
            "padding": null,
            "right": null,
            "top": null,
            "visibility": null,
            "width": null
          }
        },
        "067e7ca6b37340aaaea8b257cb70115e": {
          "model_module": "@jupyter-widgets/controls",
          "model_name": "DescriptionStyleModel",
          "model_module_version": "1.5.0",
          "state": {
            "_model_module": "@jupyter-widgets/controls",
            "_model_module_version": "1.5.0",
            "_model_name": "DescriptionStyleModel",
            "_view_count": null,
            "_view_module": "@jupyter-widgets/base",
            "_view_module_version": "1.2.0",
            "_view_name": "StyleView",
            "description_width": ""
          }
        },
        "9d5b9183e01c4e40aba14c6756fb61f3": {
          "model_module": "@jupyter-widgets/base",
          "model_name": "LayoutModel",
          "model_module_version": "1.2.0",
          "state": {
            "_model_module": "@jupyter-widgets/base",
            "_model_module_version": "1.2.0",
            "_model_name": "LayoutModel",
            "_view_count": null,
            "_view_module": "@jupyter-widgets/base",
            "_view_module_version": "1.2.0",
            "_view_name": "LayoutView",
            "align_content": null,
            "align_items": null,
            "align_self": null,
            "border": null,
            "bottom": null,
            "display": null,
            "flex": null,
            "flex_flow": null,
            "grid_area": null,
            "grid_auto_columns": null,
            "grid_auto_flow": null,
            "grid_auto_rows": null,
            "grid_column": null,
            "grid_gap": null,
            "grid_row": null,
            "grid_template_areas": null,
            "grid_template_columns": null,
            "grid_template_rows": null,
            "height": null,
            "justify_content": null,
            "justify_items": null,
            "left": null,
            "margin": null,
            "max_height": null,
            "max_width": null,
            "min_height": null,
            "min_width": null,
            "object_fit": null,
            "object_position": null,
            "order": null,
            "overflow": null,
            "overflow_x": null,
            "overflow_y": null,
            "padding": null,
            "right": null,
            "top": null,
            "visibility": null,
            "width": null
          }
        },
        "9c72c822609a49029a64dd5da2c5408c": {
          "model_module": "@jupyter-widgets/controls",
          "model_name": "ProgressStyleModel",
          "model_module_version": "1.5.0",
          "state": {
            "_model_module": "@jupyter-widgets/controls",
            "_model_module_version": "1.5.0",
            "_model_name": "ProgressStyleModel",
            "_view_count": null,
            "_view_module": "@jupyter-widgets/base",
            "_view_module_version": "1.2.0",
            "_view_name": "StyleView",
            "bar_color": null,
            "description_width": ""
          }
        },
        "f27a92224ec64694a3130346f0cf8606": {
          "model_module": "@jupyter-widgets/base",
          "model_name": "LayoutModel",
          "model_module_version": "1.2.0",
          "state": {
            "_model_module": "@jupyter-widgets/base",
            "_model_module_version": "1.2.0",
            "_model_name": "LayoutModel",
            "_view_count": null,
            "_view_module": "@jupyter-widgets/base",
            "_view_module_version": "1.2.0",
            "_view_name": "LayoutView",
            "align_content": null,
            "align_items": null,
            "align_self": null,
            "border": null,
            "bottom": null,
            "display": null,
            "flex": null,
            "flex_flow": null,
            "grid_area": null,
            "grid_auto_columns": null,
            "grid_auto_flow": null,
            "grid_auto_rows": null,
            "grid_column": null,
            "grid_gap": null,
            "grid_row": null,
            "grid_template_areas": null,
            "grid_template_columns": null,
            "grid_template_rows": null,
            "height": null,
            "justify_content": null,
            "justify_items": null,
            "left": null,
            "margin": null,
            "max_height": null,
            "max_width": null,
            "min_height": null,
            "min_width": null,
            "object_fit": null,
            "object_position": null,
            "order": null,
            "overflow": null,
            "overflow_x": null,
            "overflow_y": null,
            "padding": null,
            "right": null,
            "top": null,
            "visibility": null,
            "width": null
          }
        },
        "d08f0cd11ab74396a78425619c9bfff3": {
          "model_module": "@jupyter-widgets/controls",
          "model_name": "DescriptionStyleModel",
          "model_module_version": "1.5.0",
          "state": {
            "_model_module": "@jupyter-widgets/controls",
            "_model_module_version": "1.5.0",
            "_model_name": "DescriptionStyleModel",
            "_view_count": null,
            "_view_module": "@jupyter-widgets/base",
            "_view_module_version": "1.2.0",
            "_view_name": "StyleView",
            "description_width": ""
          }
        },
        "b8e323d82efb4dc3a91645d729e36916": {
          "model_module": "@jupyter-widgets/controls",
          "model_name": "HBoxModel",
          "model_module_version": "1.5.0",
          "state": {
            "_dom_classes": [],
            "_model_module": "@jupyter-widgets/controls",
            "_model_module_version": "1.5.0",
            "_model_name": "HBoxModel",
            "_view_count": null,
            "_view_module": "@jupyter-widgets/controls",
            "_view_module_version": "1.5.0",
            "_view_name": "HBoxView",
            "box_style": "",
            "children": [
              "IPY_MODEL_ff8fe61078ac4c06b54f7e3973ee4c05",
              "IPY_MODEL_370a64e163ef4fe5a831b07e9921ca91",
              "IPY_MODEL_7c9b982e57cd449ea424303887496943"
            ],
            "layout": "IPY_MODEL_9e8d45e6ebf846de9db9b3eac2c57b3b"
          }
        },
        "ff8fe61078ac4c06b54f7e3973ee4c05": {
          "model_module": "@jupyter-widgets/controls",
          "model_name": "HTMLModel",
          "model_module_version": "1.5.0",
          "state": {
            "_dom_classes": [],
            "_model_module": "@jupyter-widgets/controls",
            "_model_module_version": "1.5.0",
            "_model_name": "HTMLModel",
            "_view_count": null,
            "_view_module": "@jupyter-widgets/controls",
            "_view_module_version": "1.5.0",
            "_view_name": "HTMLView",
            "description": "",
            "description_tooltip": null,
            "layout": "IPY_MODEL_391ef79bd8bb44bbb85b0129a576f170",
            "placeholder": "​",
            "style": "IPY_MODEL_307efbdf7d4840939590babb208433b0",
            "value": "Generating train split: 100%"
          }
        },
        "370a64e163ef4fe5a831b07e9921ca91": {
          "model_module": "@jupyter-widgets/controls",
          "model_name": "FloatProgressModel",
          "model_module_version": "1.5.0",
          "state": {
            "_dom_classes": [],
            "_model_module": "@jupyter-widgets/controls",
            "_model_module_version": "1.5.0",
            "_model_name": "FloatProgressModel",
            "_view_count": null,
            "_view_module": "@jupyter-widgets/controls",
            "_view_module_version": "1.5.0",
            "_view_name": "ProgressView",
            "bar_style": "success",
            "description": "",
            "description_tooltip": null,
            "layout": "IPY_MODEL_40be9b5919b14fd6bef5099743a4537d",
            "max": 60000,
            "min": 0,
            "orientation": "horizontal",
            "style": "IPY_MODEL_6fb88ee93d8a4257aa32180374a34c08",
            "value": 60000
          }
        },
        "7c9b982e57cd449ea424303887496943": {
          "model_module": "@jupyter-widgets/controls",
          "model_name": "HTMLModel",
          "model_module_version": "1.5.0",
          "state": {
            "_dom_classes": [],
            "_model_module": "@jupyter-widgets/controls",
            "_model_module_version": "1.5.0",
            "_model_name": "HTMLModel",
            "_view_count": null,
            "_view_module": "@jupyter-widgets/controls",
            "_view_module_version": "1.5.0",
            "_view_name": "HTMLView",
            "description": "",
            "description_tooltip": null,
            "layout": "IPY_MODEL_93c083d766a148c1aaa039e68b4bb86b",
            "placeholder": "​",
            "style": "IPY_MODEL_a58989f03d7f46baa333e5e11ee001d8",
            "value": " 60000/60000 [00:11&lt;00:00, 3807.22 examples/s]"
          }
        },
        "9e8d45e6ebf846de9db9b3eac2c57b3b": {
          "model_module": "@jupyter-widgets/base",
          "model_name": "LayoutModel",
          "model_module_version": "1.2.0",
          "state": {
            "_model_module": "@jupyter-widgets/base",
            "_model_module_version": "1.2.0",
            "_model_name": "LayoutModel",
            "_view_count": null,
            "_view_module": "@jupyter-widgets/base",
            "_view_module_version": "1.2.0",
            "_view_name": "LayoutView",
            "align_content": null,
            "align_items": null,
            "align_self": null,
            "border": null,
            "bottom": null,
            "display": null,
            "flex": null,
            "flex_flow": null,
            "grid_area": null,
            "grid_auto_columns": null,
            "grid_auto_flow": null,
            "grid_auto_rows": null,
            "grid_column": null,
            "grid_gap": null,
            "grid_row": null,
            "grid_template_areas": null,
            "grid_template_columns": null,
            "grid_template_rows": null,
            "height": null,
            "justify_content": null,
            "justify_items": null,
            "left": null,
            "margin": null,
            "max_height": null,
            "max_width": null,
            "min_height": null,
            "min_width": null,
            "object_fit": null,
            "object_position": null,
            "order": null,
            "overflow": null,
            "overflow_x": null,
            "overflow_y": null,
            "padding": null,
            "right": null,
            "top": null,
            "visibility": null,
            "width": null
          }
        },
        "391ef79bd8bb44bbb85b0129a576f170": {
          "model_module": "@jupyter-widgets/base",
          "model_name": "LayoutModel",
          "model_module_version": "1.2.0",
          "state": {
            "_model_module": "@jupyter-widgets/base",
            "_model_module_version": "1.2.0",
            "_model_name": "LayoutModel",
            "_view_count": null,
            "_view_module": "@jupyter-widgets/base",
            "_view_module_version": "1.2.0",
            "_view_name": "LayoutView",
            "align_content": null,
            "align_items": null,
            "align_self": null,
            "border": null,
            "bottom": null,
            "display": null,
            "flex": null,
            "flex_flow": null,
            "grid_area": null,
            "grid_auto_columns": null,
            "grid_auto_flow": null,
            "grid_auto_rows": null,
            "grid_column": null,
            "grid_gap": null,
            "grid_row": null,
            "grid_template_areas": null,
            "grid_template_columns": null,
            "grid_template_rows": null,
            "height": null,
            "justify_content": null,
            "justify_items": null,
            "left": null,
            "margin": null,
            "max_height": null,
            "max_width": null,
            "min_height": null,
            "min_width": null,
            "object_fit": null,
            "object_position": null,
            "order": null,
            "overflow": null,
            "overflow_x": null,
            "overflow_y": null,
            "padding": null,
            "right": null,
            "top": null,
            "visibility": null,
            "width": null
          }
        },
        "307efbdf7d4840939590babb208433b0": {
          "model_module": "@jupyter-widgets/controls",
          "model_name": "DescriptionStyleModel",
          "model_module_version": "1.5.0",
          "state": {
            "_model_module": "@jupyter-widgets/controls",
            "_model_module_version": "1.5.0",
            "_model_name": "DescriptionStyleModel",
            "_view_count": null,
            "_view_module": "@jupyter-widgets/base",
            "_view_module_version": "1.2.0",
            "_view_name": "StyleView",
            "description_width": ""
          }
        },
        "40be9b5919b14fd6bef5099743a4537d": {
          "model_module": "@jupyter-widgets/base",
          "model_name": "LayoutModel",
          "model_module_version": "1.2.0",
          "state": {
            "_model_module": "@jupyter-widgets/base",
            "_model_module_version": "1.2.0",
            "_model_name": "LayoutModel",
            "_view_count": null,
            "_view_module": "@jupyter-widgets/base",
            "_view_module_version": "1.2.0",
            "_view_name": "LayoutView",
            "align_content": null,
            "align_items": null,
            "align_self": null,
            "border": null,
            "bottom": null,
            "display": null,
            "flex": null,
            "flex_flow": null,
            "grid_area": null,
            "grid_auto_columns": null,
            "grid_auto_flow": null,
            "grid_auto_rows": null,
            "grid_column": null,
            "grid_gap": null,
            "grid_row": null,
            "grid_template_areas": null,
            "grid_template_columns": null,
            "grid_template_rows": null,
            "height": null,
            "justify_content": null,
            "justify_items": null,
            "left": null,
            "margin": null,
            "max_height": null,
            "max_width": null,
            "min_height": null,
            "min_width": null,
            "object_fit": null,
            "object_position": null,
            "order": null,
            "overflow": null,
            "overflow_x": null,
            "overflow_y": null,
            "padding": null,
            "right": null,
            "top": null,
            "visibility": null,
            "width": null
          }
        },
        "6fb88ee93d8a4257aa32180374a34c08": {
          "model_module": "@jupyter-widgets/controls",
          "model_name": "ProgressStyleModel",
          "model_module_version": "1.5.0",
          "state": {
            "_model_module": "@jupyter-widgets/controls",
            "_model_module_version": "1.5.0",
            "_model_name": "ProgressStyleModel",
            "_view_count": null,
            "_view_module": "@jupyter-widgets/base",
            "_view_module_version": "1.2.0",
            "_view_name": "StyleView",
            "bar_color": null,
            "description_width": ""
          }
        },
        "93c083d766a148c1aaa039e68b4bb86b": {
          "model_module": "@jupyter-widgets/base",
          "model_name": "LayoutModel",
          "model_module_version": "1.2.0",
          "state": {
            "_model_module": "@jupyter-widgets/base",
            "_model_module_version": "1.2.0",
            "_model_name": "LayoutModel",
            "_view_count": null,
            "_view_module": "@jupyter-widgets/base",
            "_view_module_version": "1.2.0",
            "_view_name": "LayoutView",
            "align_content": null,
            "align_items": null,
            "align_self": null,
            "border": null,
            "bottom": null,
            "display": null,
            "flex": null,
            "flex_flow": null,
            "grid_area": null,
            "grid_auto_columns": null,
            "grid_auto_flow": null,
            "grid_auto_rows": null,
            "grid_column": null,
            "grid_gap": null,
            "grid_row": null,
            "grid_template_areas": null,
            "grid_template_columns": null,
            "grid_template_rows": null,
            "height": null,
            "justify_content": null,
            "justify_items": null,
            "left": null,
            "margin": null,
            "max_height": null,
            "max_width": null,
            "min_height": null,
            "min_width": null,
            "object_fit": null,
            "object_position": null,
            "order": null,
            "overflow": null,
            "overflow_x": null,
            "overflow_y": null,
            "padding": null,
            "right": null,
            "top": null,
            "visibility": null,
            "width": null
          }
        },
        "a58989f03d7f46baa333e5e11ee001d8": {
          "model_module": "@jupyter-widgets/controls",
          "model_name": "DescriptionStyleModel",
          "model_module_version": "1.5.0",
          "state": {
            "_model_module": "@jupyter-widgets/controls",
            "_model_module_version": "1.5.0",
            "_model_name": "DescriptionStyleModel",
            "_view_count": null,
            "_view_module": "@jupyter-widgets/base",
            "_view_module_version": "1.2.0",
            "_view_name": "StyleView",
            "description_width": ""
          }
        },
        "1403c520de4e409bb9367718b4ddeb61": {
          "model_module": "@jupyter-widgets/controls",
          "model_name": "HBoxModel",
          "model_module_version": "1.5.0",
          "state": {
            "_dom_classes": [],
            "_model_module": "@jupyter-widgets/controls",
            "_model_module_version": "1.5.0",
            "_model_name": "HBoxModel",
            "_view_count": null,
            "_view_module": "@jupyter-widgets/controls",
            "_view_module_version": "1.5.0",
            "_view_name": "HBoxView",
            "box_style": "",
            "children": [
              "IPY_MODEL_08b4625cb9c34b9cbd91e81f5a00e220",
              "IPY_MODEL_bcf71daaac9944b7b5709fa30d602dc6",
              "IPY_MODEL_5be81395592b4942ae16e5dfc295129c"
            ],
            "layout": "IPY_MODEL_a66bac569eda4adc83070d7b5018a57a"
          }
        },
        "08b4625cb9c34b9cbd91e81f5a00e220": {
          "model_module": "@jupyter-widgets/controls",
          "model_name": "HTMLModel",
          "model_module_version": "1.5.0",
          "state": {
            "_dom_classes": [],
            "_model_module": "@jupyter-widgets/controls",
            "_model_module_version": "1.5.0",
            "_model_name": "HTMLModel",
            "_view_count": null,
            "_view_module": "@jupyter-widgets/controls",
            "_view_module_version": "1.5.0",
            "_view_name": "HTMLView",
            "description": "",
            "description_tooltip": null,
            "layout": "IPY_MODEL_d10a7b3510d943c1a5ac95578f84fef3",
            "placeholder": "​",
            "style": "IPY_MODEL_eaea7e7fec6e4ddb80a2bf23c4759d34",
            "value": "Generating test split: 100%"
          }
        },
        "bcf71daaac9944b7b5709fa30d602dc6": {
          "model_module": "@jupyter-widgets/controls",
          "model_name": "FloatProgressModel",
          "model_module_version": "1.5.0",
          "state": {
            "_dom_classes": [],
            "_model_module": "@jupyter-widgets/controls",
            "_model_module_version": "1.5.0",
            "_model_name": "FloatProgressModel",
            "_view_count": null,
            "_view_module": "@jupyter-widgets/controls",
            "_view_module_version": "1.5.0",
            "_view_name": "ProgressView",
            "bar_style": "success",
            "description": "",
            "description_tooltip": null,
            "layout": "IPY_MODEL_2e27d43d9bb74f359509a163d6de632e",
            "max": 10000,
            "min": 0,
            "orientation": "horizontal",
            "style": "IPY_MODEL_f19cbbbc42c9442ea3f8643a9dbf1ab5",
            "value": 10000
          }
        },
        "5be81395592b4942ae16e5dfc295129c": {
          "model_module": "@jupyter-widgets/controls",
          "model_name": "HTMLModel",
          "model_module_version": "1.5.0",
          "state": {
            "_dom_classes": [],
            "_model_module": "@jupyter-widgets/controls",
            "_model_module_version": "1.5.0",
            "_model_name": "HTMLModel",
            "_view_count": null,
            "_view_module": "@jupyter-widgets/controls",
            "_view_module_version": "1.5.0",
            "_view_name": "HTMLView",
            "description": "",
            "description_tooltip": null,
            "layout": "IPY_MODEL_e909864ff9864ba7b57f96cac35f31a5",
            "placeholder": "​",
            "style": "IPY_MODEL_eb1bb901ba264156881e998ecb5910d3",
            "value": " 10000/10000 [00:02&lt;00:00, 5388.32 examples/s]"
          }
        },
        "a66bac569eda4adc83070d7b5018a57a": {
          "model_module": "@jupyter-widgets/base",
          "model_name": "LayoutModel",
          "model_module_version": "1.2.0",
          "state": {
            "_model_module": "@jupyter-widgets/base",
            "_model_module_version": "1.2.0",
            "_model_name": "LayoutModel",
            "_view_count": null,
            "_view_module": "@jupyter-widgets/base",
            "_view_module_version": "1.2.0",
            "_view_name": "LayoutView",
            "align_content": null,
            "align_items": null,
            "align_self": null,
            "border": null,
            "bottom": null,
            "display": null,
            "flex": null,
            "flex_flow": null,
            "grid_area": null,
            "grid_auto_columns": null,
            "grid_auto_flow": null,
            "grid_auto_rows": null,
            "grid_column": null,
            "grid_gap": null,
            "grid_row": null,
            "grid_template_areas": null,
            "grid_template_columns": null,
            "grid_template_rows": null,
            "height": null,
            "justify_content": null,
            "justify_items": null,
            "left": null,
            "margin": null,
            "max_height": null,
            "max_width": null,
            "min_height": null,
            "min_width": null,
            "object_fit": null,
            "object_position": null,
            "order": null,
            "overflow": null,
            "overflow_x": null,
            "overflow_y": null,
            "padding": null,
            "right": null,
            "top": null,
            "visibility": null,
            "width": null
          }
        },
        "d10a7b3510d943c1a5ac95578f84fef3": {
          "model_module": "@jupyter-widgets/base",
          "model_name": "LayoutModel",
          "model_module_version": "1.2.0",
          "state": {
            "_model_module": "@jupyter-widgets/base",
            "_model_module_version": "1.2.0",
            "_model_name": "LayoutModel",
            "_view_count": null,
            "_view_module": "@jupyter-widgets/base",
            "_view_module_version": "1.2.0",
            "_view_name": "LayoutView",
            "align_content": null,
            "align_items": null,
            "align_self": null,
            "border": null,
            "bottom": null,
            "display": null,
            "flex": null,
            "flex_flow": null,
            "grid_area": null,
            "grid_auto_columns": null,
            "grid_auto_flow": null,
            "grid_auto_rows": null,
            "grid_column": null,
            "grid_gap": null,
            "grid_row": null,
            "grid_template_areas": null,
            "grid_template_columns": null,
            "grid_template_rows": null,
            "height": null,
            "justify_content": null,
            "justify_items": null,
            "left": null,
            "margin": null,
            "max_height": null,
            "max_width": null,
            "min_height": null,
            "min_width": null,
            "object_fit": null,
            "object_position": null,
            "order": null,
            "overflow": null,
            "overflow_x": null,
            "overflow_y": null,
            "padding": null,
            "right": null,
            "top": null,
            "visibility": null,
            "width": null
          }
        },
        "eaea7e7fec6e4ddb80a2bf23c4759d34": {
          "model_module": "@jupyter-widgets/controls",
          "model_name": "DescriptionStyleModel",
          "model_module_version": "1.5.0",
          "state": {
            "_model_module": "@jupyter-widgets/controls",
            "_model_module_version": "1.5.0",
            "_model_name": "DescriptionStyleModel",
            "_view_count": null,
            "_view_module": "@jupyter-widgets/base",
            "_view_module_version": "1.2.0",
            "_view_name": "StyleView",
            "description_width": ""
          }
        },
        "2e27d43d9bb74f359509a163d6de632e": {
          "model_module": "@jupyter-widgets/base",
          "model_name": "LayoutModel",
          "model_module_version": "1.2.0",
          "state": {
            "_model_module": "@jupyter-widgets/base",
            "_model_module_version": "1.2.0",
            "_model_name": "LayoutModel",
            "_view_count": null,
            "_view_module": "@jupyter-widgets/base",
            "_view_module_version": "1.2.0",
            "_view_name": "LayoutView",
            "align_content": null,
            "align_items": null,
            "align_self": null,
            "border": null,
            "bottom": null,
            "display": null,
            "flex": null,
            "flex_flow": null,
            "grid_area": null,
            "grid_auto_columns": null,
            "grid_auto_flow": null,
            "grid_auto_rows": null,
            "grid_column": null,
            "grid_gap": null,
            "grid_row": null,
            "grid_template_areas": null,
            "grid_template_columns": null,
            "grid_template_rows": null,
            "height": null,
            "justify_content": null,
            "justify_items": null,
            "left": null,
            "margin": null,
            "max_height": null,
            "max_width": null,
            "min_height": null,
            "min_width": null,
            "object_fit": null,
            "object_position": null,
            "order": null,
            "overflow": null,
            "overflow_x": null,
            "overflow_y": null,
            "padding": null,
            "right": null,
            "top": null,
            "visibility": null,
            "width": null
          }
        },
        "f19cbbbc42c9442ea3f8643a9dbf1ab5": {
          "model_module": "@jupyter-widgets/controls",
          "model_name": "ProgressStyleModel",
          "model_module_version": "1.5.0",
          "state": {
            "_model_module": "@jupyter-widgets/controls",
            "_model_module_version": "1.5.0",
            "_model_name": "ProgressStyleModel",
            "_view_count": null,
            "_view_module": "@jupyter-widgets/base",
            "_view_module_version": "1.2.0",
            "_view_name": "StyleView",
            "bar_color": null,
            "description_width": ""
          }
        },
        "e909864ff9864ba7b57f96cac35f31a5": {
          "model_module": "@jupyter-widgets/base",
          "model_name": "LayoutModel",
          "model_module_version": "1.2.0",
          "state": {
            "_model_module": "@jupyter-widgets/base",
            "_model_module_version": "1.2.0",
            "_model_name": "LayoutModel",
            "_view_count": null,
            "_view_module": "@jupyter-widgets/base",
            "_view_module_version": "1.2.0",
            "_view_name": "LayoutView",
            "align_content": null,
            "align_items": null,
            "align_self": null,
            "border": null,
            "bottom": null,
            "display": null,
            "flex": null,
            "flex_flow": null,
            "grid_area": null,
            "grid_auto_columns": null,
            "grid_auto_flow": null,
            "grid_auto_rows": null,
            "grid_column": null,
            "grid_gap": null,
            "grid_row": null,
            "grid_template_areas": null,
            "grid_template_columns": null,
            "grid_template_rows": null,
            "height": null,
            "justify_content": null,
            "justify_items": null,
            "left": null,
            "margin": null,
            "max_height": null,
            "max_width": null,
            "min_height": null,
            "min_width": null,
            "object_fit": null,
            "object_position": null,
            "order": null,
            "overflow": null,
            "overflow_x": null,
            "overflow_y": null,
            "padding": null,
            "right": null,
            "top": null,
            "visibility": null,
            "width": null
          }
        },
        "eb1bb901ba264156881e998ecb5910d3": {
          "model_module": "@jupyter-widgets/controls",
          "model_name": "DescriptionStyleModel",
          "model_module_version": "1.5.0",
          "state": {
            "_model_module": "@jupyter-widgets/controls",
            "_model_module_version": "1.5.0",
            "_model_name": "DescriptionStyleModel",
            "_view_count": null,
            "_view_module": "@jupyter-widgets/base",
            "_view_module_version": "1.2.0",
            "_view_name": "StyleView",
            "description_width": ""
          }
        }
      }
    }
  },
  "cells": [
    {
      "cell_type": "markdown",
      "metadata": {
        "id": "view-in-github",
        "colab_type": "text"
      },
      "source": [
        "<a href=\"https://colab.research.google.com/github/victorbahlangene/Pythorch-V-fastai2-v-miniai/blob/main/1_model_using_raw_pytorch.ipynb\" target=\"_parent\"><img src=\"https://colab.research.google.com/assets/colab-badge.svg\" alt=\"Open In Colab\"/></a>"
      ]
    },
    {
      "cell_type": "code",
      "source": [
        "!pip install -Uqq git+https://github.com/fastai/course22p2"
      ],
      "metadata": {
        "colab": {
          "base_uri": "https://localhost:8080/"
        },
        "id": "1Ymeh4ByO0Uk",
        "outputId": "af16138a-c012-4320-adae-0f199f53cc6d"
      },
      "execution_count": 1,
      "outputs": [
        {
          "output_type": "stream",
          "name": "stdout",
          "text": [
            "  Preparing metadata (setup.py) ... \u001b[?25l\u001b[?25hdone\n",
            "\u001b[2K     \u001b[90m━━━━━━━━━━━━━━━━━━━━━━━━━━━━━━━━━━━━━━━\u001b[0m \u001b[32m519.3/519.3 kB\u001b[0m \u001b[31m6.3 MB/s\u001b[0m eta \u001b[36m0:00:00\u001b[0m\n",
            "\u001b[2K     \u001b[90m━━━━━━━━━━━━━━━━━━━━━━━━━━━━━━━━━━━━━━━\u001b[0m \u001b[32m179.2/179.2 kB\u001b[0m \u001b[31m8.7 MB/s\u001b[0m eta \u001b[36m0:00:00\u001b[0m\n",
            "\u001b[2K     \u001b[90m━━━━━━━━━━━━━━━━━━━━━━━━━━━━━━━━━━━━━━\u001b[0m \u001b[32m989.1/989.1 kB\u001b[0m \u001b[31m14.7 MB/s\u001b[0m eta \u001b[36m0:00:00\u001b[0m\n",
            "\u001b[?25h  Installing build dependencies ... \u001b[?25l\u001b[?25hdone\n",
            "  Getting requirements to build wheel ... \u001b[?25l\u001b[?25hdone\n",
            "  Preparing metadata (pyproject.toml) ... \u001b[?25l\u001b[?25hdone\n",
            "\u001b[2K     \u001b[90m━━━━━━━━━━━━━━━━━━━━━━━━━━━━━━━━━━━━━━━━\u001b[0m \u001b[32m42.2/42.2 kB\u001b[0m \u001b[31m4.3 MB/s\u001b[0m eta \u001b[36m0:00:00\u001b[0m\n",
            "\u001b[2K     \u001b[90m━━━━━━━━━━━━━━━━━━━━━━━━━━━━━━━━━━━━━━━━\u001b[0m \u001b[32m2.2/2.2 MB\u001b[0m \u001b[31m22.5 MB/s\u001b[0m eta \u001b[36m0:00:00\u001b[0m\n",
            "\u001b[2K     \u001b[90m━━━━━━━━━━━━━━━━━━━━━━━━━━━━━━━━━━━━━━\u001b[0m \u001b[32m115.3/115.3 kB\u001b[0m \u001b[31m13.4 MB/s\u001b[0m eta \u001b[36m0:00:00\u001b[0m\n",
            "\u001b[2K     \u001b[90m━━━━━━━━━━━━━━━━━━━━━━━━━━━━━━━━━━━━━━\u001b[0m \u001b[32m194.1/194.1 kB\u001b[0m \u001b[31m17.4 MB/s\u001b[0m eta \u001b[36m0:00:00\u001b[0m\n",
            "\u001b[2K     \u001b[90m━━━━━━━━━━━━━━━━━━━━━━━━━━━━━━━━━━━━━━\u001b[0m \u001b[32m134.8/134.8 kB\u001b[0m \u001b[31m17.9 MB/s\u001b[0m eta \u001b[36m0:00:00\u001b[0m\n",
            "\u001b[2K     \u001b[90m━━━━━━━━━━━━━━━━━━━━━━━━━━━━━━━━━━━━━━\u001b[0m \u001b[32m268.8/268.8 kB\u001b[0m \u001b[31m19.6 MB/s\u001b[0m eta \u001b[36m0:00:00\u001b[0m\n",
            "\u001b[2K     \u001b[90m━━━━━━━━━━━━━━━━━━━━━━━━━━━━━━━━━━━━━━━━\u001b[0m \u001b[32m1.3/1.3 MB\u001b[0m \u001b[31m33.0 MB/s\u001b[0m eta \u001b[36m0:00:00\u001b[0m\n",
            "\u001b[?25h  Building wheel for miniai (setup.py) ... \u001b[?25l\u001b[?25hdone\n",
            "  Building wheel for diffusers (pyproject.toml) ... \u001b[?25l\u001b[?25hdone\n"
          ]
        }
      ]
    },
    {
      "cell_type": "code",
      "source": [
        "import torch\n",
        "import torch.nn as nn\n",
        "import torchvision\n",
        "from torchvision.transforms import ToTensor"
      ],
      "metadata": {
        "id": "VbtaaaXb2a3z"
      },
      "execution_count": 2,
      "outputs": []
    },
    {
      "cell_type": "code",
      "source": [
        "device = \"cuda\" if torch.cuda.is_available() else \"cpu\"\n",
        "device"
      ],
      "metadata": {
        "colab": {
          "base_uri": "https://localhost:8080/",
          "height": 38
        },
        "id": "at9grDz923lj",
        "outputId": "9e2b466b-bcf3-4ec4-c9ba-7ac979b3e2e6"
      },
      "execution_count": 3,
      "outputs": [
        {
          "output_type": "execute_result",
          "data": {
            "text/plain": [
              "'cuda'"
            ],
            "application/vnd.google.colaboratory.intrinsic+json": {
              "type": "string"
            }
          },
          "metadata": {},
          "execution_count": 3
        }
      ]
    },
    {
      "cell_type": "markdown",
      "source": [
        "# 1. Data: Pytorch data"
      ],
      "metadata": {
        "id": "6IrCxkTf7Kge"
      }
    },
    {
      "cell_type": "code",
      "source": [
        "tr_dset = torchvision.datasets.FashionMNIST(root=\"./data\",\n",
        "                                            train = True,\n",
        "                                            transform = ToTensor(),\n",
        "                                            download = True)\n",
        "tst_dset = torchvision.datasets.FashionMNIST(root=\"./data\",\n",
        "                                            train = False,\n",
        "                                            transform = ToTensor())"
      ],
      "metadata": {
        "colab": {
          "base_uri": "https://localhost:8080/"
        },
        "id": "0G7iNuDt2a0N",
        "outputId": "e6bee140-9a98-42e2-e696-bf5bd96b9fda"
      },
      "execution_count": 15,
      "outputs": [
        {
          "output_type": "stream",
          "name": "stdout",
          "text": [
            "Downloading http://fashion-mnist.s3-website.eu-central-1.amazonaws.com/train-images-idx3-ubyte.gz\n",
            "Downloading http://fashion-mnist.s3-website.eu-central-1.amazonaws.com/train-images-idx3-ubyte.gz to ./data/FashionMNIST/raw/train-images-idx3-ubyte.gz\n"
          ]
        },
        {
          "output_type": "stream",
          "name": "stderr",
          "text": [
            "100%|██████████| 26421880/26421880 [00:00<00:00, 116393136.41it/s]\n"
          ]
        },
        {
          "output_type": "stream",
          "name": "stdout",
          "text": [
            "Extracting ./data/FashionMNIST/raw/train-images-idx3-ubyte.gz to ./data/FashionMNIST/raw\n",
            "\n",
            "Downloading http://fashion-mnist.s3-website.eu-central-1.amazonaws.com/train-labels-idx1-ubyte.gz\n",
            "Downloading http://fashion-mnist.s3-website.eu-central-1.amazonaws.com/train-labels-idx1-ubyte.gz to ./data/FashionMNIST/raw/train-labels-idx1-ubyte.gz\n"
          ]
        },
        {
          "output_type": "stream",
          "name": "stderr",
          "text": [
            "100%|██████████| 29515/29515 [00:00<00:00, 5481773.13it/s]"
          ]
        },
        {
          "output_type": "stream",
          "name": "stdout",
          "text": [
            "Extracting ./data/FashionMNIST/raw/train-labels-idx1-ubyte.gz to ./data/FashionMNIST/raw\n",
            "\n",
            "Downloading http://fashion-mnist.s3-website.eu-central-1.amazonaws.com/t10k-images-idx3-ubyte.gz\n",
            "Downloading http://fashion-mnist.s3-website.eu-central-1.amazonaws.com/t10k-images-idx3-ubyte.gz to ./data/FashionMNIST/raw/t10k-images-idx3-ubyte.gz\n"
          ]
        },
        {
          "output_type": "stream",
          "name": "stderr",
          "text": [
            "\n",
            "100%|██████████| 4422102/4422102 [00:00<00:00, 65783437.16it/s]\n"
          ]
        },
        {
          "output_type": "stream",
          "name": "stdout",
          "text": [
            "Extracting ./data/FashionMNIST/raw/t10k-images-idx3-ubyte.gz to ./data/FashionMNIST/raw\n",
            "\n",
            "Downloading http://fashion-mnist.s3-website.eu-central-1.amazonaws.com/t10k-labels-idx1-ubyte.gz\n",
            "Downloading http://fashion-mnist.s3-website.eu-central-1.amazonaws.com/t10k-labels-idx1-ubyte.gz to ./data/FashionMNIST/raw/t10k-labels-idx1-ubyte.gz\n"
          ]
        },
        {
          "output_type": "stream",
          "name": "stderr",
          "text": [
            "100%|██████████| 5148/5148 [00:00<00:00, 21086208.00it/s]"
          ]
        },
        {
          "output_type": "stream",
          "name": "stdout",
          "text": [
            "Extracting ./data/FashionMNIST/raw/t10k-labels-idx1-ubyte.gz to ./data/FashionMNIST/raw\n",
            "\n"
          ]
        },
        {
          "output_type": "stream",
          "name": "stderr",
          "text": [
            "\n"
          ]
        }
      ]
    },
    {
      "cell_type": "code",
      "source": [
        "tr_dset.data.shape, tst_dset.data.shape"
      ],
      "metadata": {
        "colab": {
          "base_uri": "https://localhost:8080/"
        },
        "id": "QiJGg8ST4wEN",
        "outputId": "74cdeaa3-3e67-41de-8b35-ab5c6608ebba"
      },
      "execution_count": 16,
      "outputs": [
        {
          "output_type": "execute_result",
          "data": {
            "text/plain": [
              "(torch.Size([60000, 28, 28]), torch.Size([10000, 28, 28]))"
            ]
          },
          "metadata": {},
          "execution_count": 16
        }
      ]
    },
    {
      "cell_type": "code",
      "source": [
        "tr_dl = torch.utils.data.DataLoader(\n",
        "                          dataset=tr_dset,\n",
        "                          batch_size=1024,\n",
        "                          shuffle = True,\n",
        "                          num_workers = 2)\n",
        "tst_dl = torch.utils.data.DataLoader(\n",
        "                          dataset=tst_dset,\n",
        "                          batch_size=1024,\n",
        "                          shuffle = False,\n",
        "                          num_workers = 2)"
      ],
      "metadata": {
        "id": "ALMbBB6z2awy"
      },
      "execution_count": 17,
      "outputs": []
    },
    {
      "cell_type": "code",
      "source": [
        "xb, yb = next(iter(tst_dl))\n",
        "xb.shape, yb.shape"
      ],
      "metadata": {
        "colab": {
          "base_uri": "https://localhost:8080/"
        },
        "id": "hfAu5XsH2aqM",
        "outputId": "a2a0c2b7-0663-462e-8b35-11dcee2324d5"
      },
      "execution_count": 18,
      "outputs": [
        {
          "output_type": "execute_result",
          "data": {
            "text/plain": [
              "(torch.Size([1024, 1, 28, 28]), torch.Size([1024]))"
            ]
          },
          "metadata": {},
          "execution_count": 18
        }
      ]
    },
    {
      "cell_type": "markdown",
      "source": [
        "## Model and Opt"
      ],
      "metadata": {
        "id": "RkqfjXLI7NQl"
      }
    },
    {
      "cell_type": "code",
      "source": [
        "from miniai.conv import *"
      ],
      "metadata": {
        "id": "SOXWiuzn2amu"
      },
      "execution_count": 4,
      "outputs": []
    },
    {
      "cell_type": "code",
      "source": [
        "def get_model():\n",
        "    return nn.Sequential(conv(1 ,8), conv(8 ,16), conv(16,32), conv(32,64),\n",
        "                         conv(64,10, act=False), nn.Flatten())"
      ],
      "metadata": {
        "id": "RewQ6j8i2aju"
      },
      "execution_count": 5,
      "outputs": []
    },
    {
      "cell_type": "code",
      "source": [
        "get_model()"
      ],
      "metadata": {
        "colab": {
          "base_uri": "https://localhost:8080/"
        },
        "id": "GvfexoNG2aft",
        "outputId": "4699dbd8-7805-491a-9c68-a2c8ae3065fe"
      },
      "execution_count": 21,
      "outputs": [
        {
          "output_type": "execute_result",
          "data": {
            "text/plain": [
              "Sequential(\n",
              "  (0): Sequential(\n",
              "    (0): Conv2d(1, 8, kernel_size=(3, 3), stride=(2, 2), padding=(1, 1))\n",
              "    (1): ReLU()\n",
              "  )\n",
              "  (1): Sequential(\n",
              "    (0): Conv2d(8, 16, kernel_size=(3, 3), stride=(2, 2), padding=(1, 1))\n",
              "    (1): ReLU()\n",
              "  )\n",
              "  (2): Sequential(\n",
              "    (0): Conv2d(16, 32, kernel_size=(3, 3), stride=(2, 2), padding=(1, 1))\n",
              "    (1): ReLU()\n",
              "  )\n",
              "  (3): Sequential(\n",
              "    (0): Conv2d(32, 64, kernel_size=(3, 3), stride=(2, 2), padding=(1, 1))\n",
              "    (1): ReLU()\n",
              "  )\n",
              "  (4): Conv2d(64, 10, kernel_size=(3, 3), stride=(2, 2), padding=(1, 1))\n",
              "  (5): Flatten(start_dim=1, end_dim=-1)\n",
              ")"
            ]
          },
          "metadata": {},
          "execution_count": 21
        }
      ]
    },
    {
      "cell_type": "code",
      "source": [
        "get_model()(xb).shape"
      ],
      "metadata": {
        "colab": {
          "base_uri": "https://localhost:8080/"
        },
        "id": "rzSvFhoU2ac6",
        "outputId": "b8ae4764-348d-4a96-ea8f-401fe422648f"
      },
      "execution_count": 22,
      "outputs": [
        {
          "output_type": "execute_result",
          "data": {
            "text/plain": [
              "torch.Size([1024, 10])"
            ]
          },
          "metadata": {},
          "execution_count": 22
        }
      ]
    },
    {
      "cell_type": "code",
      "source": [
        "model = get_model().to(device)"
      ],
      "metadata": {
        "id": "bYHgSvRZ2aZF"
      },
      "execution_count": 23,
      "outputs": []
    },
    {
      "cell_type": "code",
      "source": [
        "optimizer = torch.optim.SGD(model.parameters(), lr=0.2)"
      ],
      "metadata": {
        "id": "JOYhRUnp2aWS"
      },
      "execution_count": 24,
      "outputs": []
    },
    {
      "cell_type": "code",
      "source": [
        "optimizer_mom = torch.optim.SGD(model.parameters(), lr=0.2, momentum=0.9)"
      ],
      "metadata": {
        "id": "HFCct-2K2aSO"
      },
      "execution_count": 25,
      "outputs": []
    },
    {
      "cell_type": "code",
      "source": [
        "criterion = nn.CrossEntropyLoss()\n",
        "criterion"
      ],
      "metadata": {
        "colab": {
          "base_uri": "https://localhost:8080/"
        },
        "id": "UyTE73qu2aPt",
        "outputId": "e906c34b-15d5-4403-fcbc-24874439db72"
      },
      "execution_count": 26,
      "outputs": [
        {
          "output_type": "execute_result",
          "data": {
            "text/plain": [
              "CrossEntropyLoss()"
            ]
          },
          "metadata": {},
          "execution_count": 26
        }
      ]
    },
    {
      "cell_type": "code",
      "source": [],
      "metadata": {
        "id": "gArcpEhq2aLL"
      },
      "execution_count": 26,
      "outputs": []
    },
    {
      "cell_type": "markdown",
      "source": [
        "## Training Loop"
      ],
      "metadata": {
        "id": "uTUobyY57Slo"
      }
    },
    {
      "cell_type": "code",
      "source": [
        "epochs = 5\n",
        "n_total_steps = len(tr_dl)\n",
        "n_total_steps"
      ],
      "metadata": {
        "colab": {
          "base_uri": "https://localhost:8080/"
        },
        "id": "cI_TwcPJSiez",
        "outputId": "ba49c92c-bd79-4d1e-e142-d72168d5733b"
      },
      "execution_count": 27,
      "outputs": [
        {
          "output_type": "execute_result",
          "data": {
            "text/plain": [
              "59"
            ]
          },
          "metadata": {},
          "execution_count": 27
        }
      ]
    },
    {
      "cell_type": "code",
      "source": [
        "!pip install -q torchmetrics"
      ],
      "metadata": {
        "colab": {
          "base_uri": "https://localhost:8080/"
        },
        "id": "V58wbdfyKsbN",
        "outputId": "2fbaf258-db77-47a6-91e9-bac5ecd1218d"
      },
      "execution_count": 6,
      "outputs": [
        {
          "output_type": "stream",
          "name": "stdout",
          "text": [
            "\u001b[?25l     \u001b[90m━━━━━━━━━━━━━━━━━━━━━━━━━━━━━━━━━━━━━━━━\u001b[0m \u001b[32m0.0/763.4 kB\u001b[0m \u001b[31m?\u001b[0m eta \u001b[36m-:--:--\u001b[0m\r\u001b[2K     \u001b[91m━━━━━━━━━━━━\u001b[0m\u001b[90m╺\u001b[0m\u001b[90m━━━━━━━━━━━━━━━━━━━━━━━━━━\u001b[0m \u001b[32m235.5/763.4 kB\u001b[0m \u001b[31m6.9 MB/s\u001b[0m eta \u001b[36m0:00:01\u001b[0m\r\u001b[2K     \u001b[91m━━━━━━━━━━━━━━━━━━━━━━━━━━━━━━━━━━━━━\u001b[0m\u001b[91m╸\u001b[0m \u001b[32m757.8/763.4 kB\u001b[0m \u001b[31m12.4 MB/s\u001b[0m eta \u001b[36m0:00:01\u001b[0m\r\u001b[2K     \u001b[90m━━━━━━━━━━━━━━━━━━━━━━━━━━━━━━━━━━━━━━\u001b[0m \u001b[32m763.4/763.4 kB\u001b[0m \u001b[31m10.6 MB/s\u001b[0m eta \u001b[36m0:00:00\u001b[0m\n",
            "\u001b[?25h"
          ]
        }
      ]
    },
    {
      "cell_type": "code",
      "source": [
        "from torchmetrics.classification import MulticlassAccuracy"
      ],
      "metadata": {
        "id": "bVKpUAynLTA_"
      },
      "execution_count": 7,
      "outputs": []
    },
    {
      "cell_type": "code",
      "source": [
        "from torch import tensor\n",
        "\n",
        "targ = tensor([2, 1, 0, 0])\n",
        "prds = tensor([2, 1, 0, 1])\n",
        "metric = MulticlassAccuracy(num_classes=3)\n",
        "metric(prds, targ)"
      ],
      "metadata": {
        "colab": {
          "base_uri": "https://localhost:8080/"
        },
        "id": "Ud4z4zmYLkZZ",
        "outputId": "84a4ffbc-5155-4c87-bd6d-8d2499efd410"
      },
      "execution_count": 30,
      "outputs": [
        {
          "output_type": "execute_result",
          "data": {
            "text/plain": [
              "tensor(0.8333)"
            ]
          },
          "metadata": {},
          "execution_count": 30
        }
      ]
    },
    {
      "cell_type": "code",
      "source": [
        "def train_step(model, data_loader,loss_fn, optimizer, accuracy_fn, device):\n",
        "  train_loss, train_acc = 0,0\n",
        "  for batch, (X,y) in enumerate(data_loader):\n",
        "    X,y = X.to(device),y.to(device)\n",
        "    y_pred = model(X)\n",
        "    loss = loss_fn(y_pred, y)\n",
        "    train_loss += loss\n",
        "    train_acc += accuracy_fn(y_pred.argmax(dim=1), y)\n",
        "    optimizer.zero_grad()\n",
        "    loss.backward()\n",
        "    optimizer.step()\n",
        "\n",
        "  train_loss /= len(data_loader)\n",
        "  train_acc /= len(data_loader)\n",
        "  print(f\"Train loss: {train_loss} | Train accuracy: {train_acc}%\")"
      ],
      "metadata": {
        "id": "iSEs54JqWkw3"
      },
      "execution_count": 8,
      "outputs": []
    },
    {
      "cell_type": "code",
      "source": [
        "def test_step(data_loader, model, loss_fn, accuracy_fn, device):\n",
        "  test_loss, test_acc = 0, 0\n",
        "  model.eval()\n",
        "  with torch.inference_mode():\n",
        "    for X, y in data_loader:\n",
        "      X, y = X.to(device), y.to(device)\n",
        "      test_pred = model(X)\n",
        "      test_loss += loss_fn(test_pred, y)\n",
        "      test_acc += accuracy_fn(test_pred.argmax(dim=1), y)\n",
        "\n",
        "    # Adjust metrics and print out\n",
        "    test_loss /= len(data_loader)\n",
        "    test_acc /= len(data_loader)\n",
        "    print(f\"Test loss: {test_loss:.5f} | Test accuracy: {test_acc:.2f}%\\n\")"
      ],
      "metadata": {
        "id": "ASTS4GqIMcAH"
      },
      "execution_count": 9,
      "outputs": []
    },
    {
      "cell_type": "code",
      "source": [
        "torch.manual_seed(42)\n",
        "\n",
        "epochs = 5\n",
        "for epoch in range(epochs):\n",
        "  print(f\"Epoch: {epoch}\\n---------\")\n",
        "  train_step(data_loader=tr_dl,\n",
        "      model=model,\n",
        "      loss_fn=criterion,\n",
        "      optimizer=optimizer,\n",
        "      accuracy_fn=MulticlassAccuracy(num_classes=10).to(device),\n",
        "      device = device\n",
        "  )\n",
        "  test_step(data_loader=tst_dl,\n",
        "      model=model,\n",
        "      loss_fn=criterion,\n",
        "      accuracy_fn=MulticlassAccuracy(num_classes=10).to(device),\n",
        "      device = device\n",
        "  )"
      ],
      "metadata": {
        "colab": {
          "base_uri": "https://localhost:8080/"
        },
        "id": "AWDfApE-QyVM",
        "outputId": "32e06205-2054-41db-e0fd-daf7ac903f84"
      },
      "execution_count": 37,
      "outputs": [
        {
          "output_type": "stream",
          "name": "stdout",
          "text": [
            "Epoch: 0\n",
            "---------\n",
            "Train loss: 2.3003389835357666 | Train accuracy: 0.13782401382923126%\n",
            "Test loss: 2.29623 | Test accuracy: 0.26%\n",
            "\n",
            "Epoch: 1\n",
            "---------\n",
            "Train loss: 2.163888692855835 | Train accuracy: 0.3207462430000305%\n",
            "Test loss: 1.29961 | Test accuracy: 0.60%\n",
            "\n",
            "Epoch: 2\n",
            "---------\n",
            "Train loss: 0.9957460761070251 | Train accuracy: 0.6357304453849792%\n",
            "Test loss: 0.85575 | Test accuracy: 0.66%\n",
            "\n",
            "Epoch: 3\n",
            "---------\n",
            "Train loss: 0.7170441746711731 | Train accuracy: 0.723793089389801%\n",
            "Test loss: 0.79683 | Test accuracy: 0.71%\n",
            "\n",
            "Epoch: 4\n",
            "---------\n",
            "Train loss: 0.634416937828064 | Train accuracy: 0.7606388926506042%\n",
            "Test loss: 0.70102 | Test accuracy: 0.74%\n",
            "\n"
          ]
        }
      ]
    },
    {
      "cell_type": "code",
      "source": [
        "model.state_dict()"
      ],
      "metadata": {
        "colab": {
          "base_uri": "https://localhost:8080/"
        },
        "id": "WipdtrSfTLir",
        "outputId": "502dd91d-8422-4dfe-dff8-69af287a79e5"
      },
      "execution_count": 38,
      "outputs": [
        {
          "output_type": "execute_result",
          "data": {
            "text/plain": [
              "OrderedDict([('0.0.weight',\n",
              "              tensor([[[[ 0.2946,  0.1661,  0.4074],\n",
              "                        [ 0.3832,  0.2132,  0.3619],\n",
              "                        [ 0.0044,  0.2698,  0.1861]]],\n",
              "              \n",
              "              \n",
              "                      [[[ 0.4274,  0.7649, -0.0795],\n",
              "                        [ 0.0686,  0.6966,  0.5101],\n",
              "                        [ 0.3913,  0.5659,  0.0068]]],\n",
              "              \n",
              "              \n",
              "                      [[[ 0.1639, -0.2808,  0.0931],\n",
              "                        [-0.3447, -0.0912, -0.2201],\n",
              "                        [-0.3234,  0.1768, -0.1962]]],\n",
              "              \n",
              "              \n",
              "                      [[[ 0.1633,  0.0610,  0.0821],\n",
              "                        [-0.0522,  0.1532, -0.2075],\n",
              "                        [ 0.2617,  0.1287,  0.0173]]],\n",
              "              \n",
              "              \n",
              "                      [[[ 0.1170,  0.3177, -0.0425],\n",
              "                        [-0.0393, -0.1919, -0.1093],\n",
              "                        [-0.2377,  0.1565, -0.3420]]],\n",
              "              \n",
              "              \n",
              "                      [[[ 0.2916,  0.2378,  0.2488],\n",
              "                        [ 0.0909, -0.0278,  0.1963],\n",
              "                        [ 0.0480,  0.3213, -0.1137]]],\n",
              "              \n",
              "              \n",
              "                      [[[-0.3117, -0.2451,  0.0764],\n",
              "                        [-0.0212, -0.1614, -0.1902],\n",
              "                        [ 0.2044, -0.2241,  0.1000]]],\n",
              "              \n",
              "              \n",
              "                      [[[-0.5057, -0.2366, -0.4411],\n",
              "                        [-0.5503, -0.3023, -0.4659],\n",
              "                        [-0.4365, -0.4952,  0.1640]]]], device='cuda:0')),\n",
              "             ('0.0.bias',\n",
              "              tensor([ 0.0189,  0.0809,  0.2023,  0.0310,  0.0712,  0.0153, -0.3276,  0.7164],\n",
              "                     device='cuda:0')),\n",
              "             ('1.0.weight',\n",
              "              tensor([[[[-1.4932e-01, -6.3626e-02,  7.9433e-02],\n",
              "                        [-1.3443e-01, -3.5656e-02,  7.9871e-03],\n",
              "                        [-1.3365e-01, -1.0336e-01, -3.7709e-02]],\n",
              "              \n",
              "                       [[ 2.5718e-02, -5.5168e-02, -1.2856e-02],\n",
              "                        [-2.0683e-01, -6.3219e-02,  6.4004e-02],\n",
              "                        [-2.2387e-01, -2.0008e-01,  1.0789e-01]],\n",
              "              \n",
              "                       [[-3.3381e-02, -7.2951e-02,  1.1958e-01],\n",
              "                        [ 4.9965e-02,  2.8553e-02,  1.9546e-02],\n",
              "                        [ 6.8396e-02,  5.6684e-02,  1.0515e-01]],\n",
              "              \n",
              "                       ...,\n",
              "              \n",
              "                       [[-1.2487e-01,  7.8506e-03,  3.1677e-03],\n",
              "                        [-6.5107e-02,  5.0787e-02, -6.6353e-02],\n",
              "                        [-8.3976e-02, -5.4574e-02,  8.0967e-02]],\n",
              "              \n",
              "                       [[-2.1250e-02,  9.4729e-02,  3.7089e-02],\n",
              "                        [-1.1082e-01, -5.4573e-02,  1.0191e-01],\n",
              "                        [ 5.5746e-02, -4.8008e-02, -9.7454e-02]],\n",
              "              \n",
              "                       [[ 6.6547e-02,  1.6780e-01,  7.1793e-02],\n",
              "                        [ 6.6659e-02,  2.3772e-01,  2.4859e-01],\n",
              "                        [ 3.1153e-01,  2.5184e-01,  8.1119e-02]]],\n",
              "              \n",
              "              \n",
              "                      [[[ 1.0251e-01,  1.2295e-02,  8.3026e-02],\n",
              "                        [ 5.6728e-02,  1.1909e-01, -6.6850e-02],\n",
              "                        [ 1.5614e-01, -9.3027e-02, -6.3111e-02]],\n",
              "              \n",
              "                       [[ 1.6435e-01,  7.4120e-02,  9.3531e-02],\n",
              "                        [ 2.1053e-01, -4.9115e-02,  1.2453e-01],\n",
              "                        [ 2.4503e-02,  8.7789e-02, -9.6507e-02]],\n",
              "              \n",
              "                       [[ 1.2070e-02, -8.1587e-02,  1.0322e-01],\n",
              "                        [-3.4362e-02, -2.4252e-02, -1.7757e-02],\n",
              "                        [ 1.9056e-02, -3.4414e-02,  3.2883e-02]],\n",
              "              \n",
              "                       ...,\n",
              "              \n",
              "                       [[ 7.7041e-02, -4.1726e-02,  1.9917e-02],\n",
              "                        [ 1.1104e-01,  1.0459e-01,  1.1105e-01],\n",
              "                        [ 6.0835e-02,  2.7721e-02, -9.9527e-02]],\n",
              "              \n",
              "                       [[ 4.9350e-02, -3.2102e-03, -2.9453e-02],\n",
              "                        [ 3.5241e-02, -4.7995e-02,  6.7197e-02],\n",
              "                        [ 5.9166e-02,  1.0016e-01, -4.6849e-02]],\n",
              "              \n",
              "                       [[-5.7298e-02, -5.0163e-02,  4.2488e-02],\n",
              "                        [-5.6118e-02,  1.0299e-01, -1.1358e-01],\n",
              "                        [-1.4577e-01, -5.3340e-02,  1.1483e-01]]],\n",
              "              \n",
              "              \n",
              "                      [[[-5.4830e-02, -1.1304e-01, -1.1274e-02],\n",
              "                        [-1.0130e-01, -6.2126e-03, -5.8306e-02],\n",
              "                        [-1.1651e-01,  5.8669e-03,  1.2936e-02]],\n",
              "              \n",
              "                       [[ 6.9149e-02, -3.6573e-02, -1.0127e-01],\n",
              "                        [ 3.2205e-02, -1.0651e-01,  7.8345e-02],\n",
              "                        [ 8.9619e-02,  2.3194e-02, -1.0176e-01]],\n",
              "              \n",
              "                       [[ 1.2265e-02,  5.0287e-02,  2.9923e-03],\n",
              "                        [ 4.9704e-02, -7.3981e-02, -2.5743e-02],\n",
              "                        [-1.7358e-02, -7.5848e-02,  2.4891e-02]],\n",
              "              \n",
              "                       ...,\n",
              "              \n",
              "                       [[-7.4246e-02, -3.9495e-03,  1.1292e-01],\n",
              "                        [-1.9844e-02, -7.7133e-02, -6.9741e-02],\n",
              "                        [-8.4512e-02,  1.5050e-02,  2.6304e-03]],\n",
              "              \n",
              "                       [[ 9.0174e-02,  1.0774e-01, -1.0487e-01],\n",
              "                        [-7.6137e-03,  6.8602e-02,  1.1140e-01],\n",
              "                        [-8.2755e-02,  7.3888e-02, -1.7464e-02]],\n",
              "              \n",
              "                       [[ 3.8668e-02,  1.0059e-01,  7.1724e-02],\n",
              "                        [-4.2661e-02,  7.5319e-02,  3.4781e-02],\n",
              "                        [ 1.3051e-01,  2.1446e-02,  6.6581e-02]]],\n",
              "              \n",
              "              \n",
              "                      ...,\n",
              "              \n",
              "              \n",
              "                      [[[ 7.0290e-02,  9.3220e-02, -8.4708e-02],\n",
              "                        [-2.3755e-02, -1.1235e-01,  1.2336e-02],\n",
              "                        [-1.7645e-02,  5.5104e-02, -1.0358e-01]],\n",
              "              \n",
              "                       [[-8.2939e-02,  3.1312e-02, -9.4973e-02],\n",
              "                        [ 8.1629e-03, -3.4015e-02, -2.6456e-03],\n",
              "                        [ 8.4450e-02, -1.1930e-01, -7.3310e-02]],\n",
              "              \n",
              "                       [[ 5.9665e-02,  5.1535e-02, -1.1537e-01],\n",
              "                        [ 6.3967e-02, -4.7700e-02,  1.1460e-01],\n",
              "                        [-6.2595e-03, -7.2959e-02, -4.8585e-02]],\n",
              "              \n",
              "                       ...,\n",
              "              \n",
              "                       [[ 1.3657e-02,  1.6484e-02, -7.3050e-02],\n",
              "                        [-7.2258e-02, -8.4682e-02,  2.1629e-03],\n",
              "                        [-1.4705e-02,  8.1020e-02,  1.0011e-01]],\n",
              "              \n",
              "                       [[ 1.5246e-02,  9.5647e-02, -1.4365e-02],\n",
              "                        [ 9.0094e-02,  9.9911e-02, -6.6450e-02],\n",
              "                        [-8.5012e-03,  9.1835e-02, -8.8170e-02]],\n",
              "              \n",
              "                       [[ 5.4174e-02,  8.2253e-02, -1.2578e-01],\n",
              "                        [ 8.3422e-02, -5.9216e-02,  3.1269e-02],\n",
              "                        [-8.4440e-02, -2.7292e-04,  1.0735e-01]]],\n",
              "              \n",
              "              \n",
              "                      [[[ 1.7595e-02, -8.7043e-03,  3.9579e-02],\n",
              "                        [ 6.7449e-02, -3.2287e-02, -4.8529e-03],\n",
              "                        [-4.7402e-02,  6.5612e-02,  1.1730e-01]],\n",
              "              \n",
              "                       [[-8.8119e-02, -1.1122e-01,  5.0207e-02],\n",
              "                        [-2.9557e-02, -2.8037e-02,  1.1429e-01],\n",
              "                        [ 1.2362e-01,  5.1746e-02,  7.6863e-02]],\n",
              "              \n",
              "                       [[-3.3062e-02, -1.5126e-02, -1.1272e-01],\n",
              "                        [ 3.3049e-02, -9.0448e-03, -8.0692e-03],\n",
              "                        [-6.4998e-02, -7.5962e-03,  8.1273e-02]],\n",
              "              \n",
              "                       ...,\n",
              "              \n",
              "                       [[-9.5227e-02, -1.1501e-01,  4.2071e-02],\n",
              "                        [ 5.7781e-02, -2.0429e-02,  4.4029e-02],\n",
              "                        [-7.2085e-02, -7.8382e-02,  2.6729e-02]],\n",
              "              \n",
              "                       [[-5.6186e-03, -3.5381e-02, -8.9972e-02],\n",
              "                        [ 2.8863e-03,  8.4232e-02,  5.0163e-02],\n",
              "                        [ 5.3013e-02, -1.0579e-01, -3.3305e-02]],\n",
              "              \n",
              "                       [[-1.0545e-01, -1.0451e-01,  7.1924e-02],\n",
              "                        [-1.1680e-01, -1.6362e-02,  5.2183e-02],\n",
              "                        [ 6.2075e-02, -1.2985e-01,  5.7131e-02]]],\n",
              "              \n",
              "              \n",
              "                      [[[ 1.0887e-01,  1.0276e-01,  8.8084e-02],\n",
              "                        [ 2.0580e-02, -1.5218e-02, -9.8902e-02],\n",
              "                        [-7.9735e-02, -7.2895e-02,  1.4569e-02]],\n",
              "              \n",
              "                       [[-1.2034e-02,  7.3695e-02, -8.1237e-02],\n",
              "                        [-1.0269e-01, -3.2530e-02, -2.2928e-03],\n",
              "                        [-7.2417e-02,  3.4160e-02, -9.3706e-02]],\n",
              "              \n",
              "                       [[-2.4355e-03,  4.6856e-02,  6.7212e-02],\n",
              "                        [-3.4586e-02,  1.1784e-01, -9.9361e-02],\n",
              "                        [-1.1712e-01,  3.4695e-02,  4.9707e-03]],\n",
              "              \n",
              "                       ...,\n",
              "              \n",
              "                       [[ 5.7755e-02,  6.2586e-02, -5.5289e-02],\n",
              "                        [-9.5138e-02, -8.2297e-02,  8.0977e-03],\n",
              "                        [ 8.1318e-03,  3.2836e-02, -3.0030e-03]],\n",
              "              \n",
              "                       [[-5.5526e-02, -2.8116e-02, -8.2047e-02],\n",
              "                        [ 9.0527e-03, -2.4556e-02, -8.3306e-02],\n",
              "                        [-6.4602e-02,  1.8051e-02, -4.6559e-02]],\n",
              "              \n",
              "                       [[ 1.1596e-01, -7.6383e-02,  3.0463e-02],\n",
              "                        [-5.4919e-02, -9.6198e-02,  2.5790e-02],\n",
              "                        [-4.0838e-02, -4.9856e-02,  5.3742e-02]]]], device='cuda:0')),\n",
              "             ('1.0.bias',\n",
              "              tensor([ 0.1923, -0.0455,  0.0631,  0.1653, -0.0481, -0.0671,  0.1931, -0.0022,\n",
              "                       0.1907,  0.1591,  0.1712,  0.2543, -0.0447, -0.0617,  0.0065, -0.1035],\n",
              "                     device='cuda:0')),\n",
              "             ('2.0.weight',\n",
              "              tensor([[[[ 0.0350, -0.0528, -0.0309],\n",
              "                        [ 0.0637, -0.0498,  0.0690],\n",
              "                        [ 0.0765, -0.0879,  0.0954]],\n",
              "              \n",
              "                       [[ 0.0266, -0.0060, -0.0251],\n",
              "                        [ 0.0597, -0.0185,  0.0567],\n",
              "                        [-0.0173,  0.0390,  0.0271]],\n",
              "              \n",
              "                       [[ 0.0732,  0.0507, -0.0543],\n",
              "                        [ 0.0134,  0.0543,  0.0448],\n",
              "                        [-0.0620, -0.0648, -0.0561]],\n",
              "              \n",
              "                       ...,\n",
              "              \n",
              "                       [[ 0.0744, -0.0670,  0.0633],\n",
              "                        [-0.0214,  0.0127,  0.0526],\n",
              "                        [-0.0459, -0.0652, -0.0344]],\n",
              "              \n",
              "                       [[ 0.0276, -0.0473, -0.0720],\n",
              "                        [ 0.0311, -0.0264,  0.0505],\n",
              "                        [-0.0153, -0.0536,  0.0050]],\n",
              "              \n",
              "                       [[ 0.0505,  0.0729, -0.0651],\n",
              "                        [-0.0584, -0.0091, -0.0071],\n",
              "                        [-0.0334,  0.0658, -0.0448]]],\n",
              "              \n",
              "              \n",
              "                      [[[ 0.0760,  0.1268,  0.1295],\n",
              "                        [ 0.0331,  0.2725,  0.1188],\n",
              "                        [-0.0284,  0.1233, -0.0522]],\n",
              "              \n",
              "                       [[ 0.0064,  0.0192, -0.0813],\n",
              "                        [ 0.0080,  0.0346,  0.0135],\n",
              "                        [-0.0113,  0.0359, -0.0628]],\n",
              "              \n",
              "                       [[ 0.0412,  0.0505,  0.0428],\n",
              "                        [ 0.1066,  0.1000, -0.0365],\n",
              "                        [-0.0214, -0.0206,  0.0722]],\n",
              "              \n",
              "                       ...,\n",
              "              \n",
              "                       [[-0.0610,  0.0499, -0.0344],\n",
              "                        [-0.0144,  0.0685,  0.0574],\n",
              "                        [-0.0109, -0.0212, -0.0798]],\n",
              "              \n",
              "                       [[ 0.0523, -0.0068, -0.0503],\n",
              "                        [-0.0377, -0.0453, -0.0409],\n",
              "                        [-0.0605, -0.0585, -0.0033]],\n",
              "              \n",
              "                       [[ 0.0357, -0.0316,  0.0443],\n",
              "                        [ 0.0770, -0.0183,  0.0351],\n",
              "                        [-0.0479,  0.0534, -0.0630]]],\n",
              "              \n",
              "              \n",
              "                      [[[ 0.0521, -0.0070,  0.0781],\n",
              "                        [-0.0417,  0.0214,  0.0128],\n",
              "                        [-0.0389,  0.0620, -0.0615]],\n",
              "              \n",
              "                       [[-0.0010,  0.0659,  0.0117],\n",
              "                        [-0.0309,  0.0263, -0.0256],\n",
              "                        [-0.0242,  0.0241,  0.0403]],\n",
              "              \n",
              "                       [[ 0.0462,  0.0085,  0.0242],\n",
              "                        [-0.0581,  0.0465,  0.0539],\n",
              "                        [ 0.0663,  0.0601, -0.0615]],\n",
              "              \n",
              "                       ...,\n",
              "              \n",
              "                       [[ 0.0265,  0.0648, -0.0143],\n",
              "                        [-0.0650,  0.0701, -0.0169],\n",
              "                        [-0.0510, -0.0404, -0.0009]],\n",
              "              \n",
              "                       [[-0.0374, -0.0445, -0.0379],\n",
              "                        [-0.0045, -0.0648, -0.0305],\n",
              "                        [ 0.0775, -0.0413, -0.0360]],\n",
              "              \n",
              "                       [[-0.0414,  0.0789,  0.0745],\n",
              "                        [-0.0824,  0.0007,  0.0570],\n",
              "                        [ 0.0316,  0.0083, -0.0583]]],\n",
              "              \n",
              "              \n",
              "                      ...,\n",
              "              \n",
              "              \n",
              "                      [[[ 0.0202,  0.0941,  0.0732],\n",
              "                        [ 0.1406,  0.1939,  0.1122],\n",
              "                        [ 0.0283,  0.0137, -0.0093]],\n",
              "              \n",
              "                       [[-0.0372, -0.0159, -0.0808],\n",
              "                        [ 0.0530, -0.0008, -0.0104],\n",
              "                        [ 0.0306, -0.0427, -0.0490]],\n",
              "              \n",
              "                       [[ 0.0414,  0.0861, -0.0100],\n",
              "                        [ 0.0882, -0.0487, -0.0222],\n",
              "                        [-0.0280,  0.0390,  0.0010]],\n",
              "              \n",
              "                       ...,\n",
              "              \n",
              "                       [[ 0.0221, -0.0490,  0.0513],\n",
              "                        [-0.0445,  0.0061, -0.0550],\n",
              "                        [-0.0475,  0.0833,  0.0378]],\n",
              "              \n",
              "                       [[ 0.0481, -0.0042, -0.0702],\n",
              "                        [ 0.0146, -0.0617, -0.0473],\n",
              "                        [ 0.0726,  0.0415,  0.0046]],\n",
              "              \n",
              "                       [[-0.0647, -0.0760,  0.0635],\n",
              "                        [ 0.0469, -0.0780, -0.0208],\n",
              "                        [ 0.0453,  0.0414,  0.0683]]],\n",
              "              \n",
              "              \n",
              "                      [[[ 0.0124, -0.0109, -0.0931],\n",
              "                        [ 0.0251,  0.1452,  0.0036],\n",
              "                        [-0.0342,  0.0086, -0.0612]],\n",
              "              \n",
              "                       [[-0.0035, -0.0646, -0.0136],\n",
              "                        [-0.0004, -0.0232,  0.0981],\n",
              "                        [-0.0290, -0.0869, -0.0276]],\n",
              "              \n",
              "                       [[-0.0261, -0.0286,  0.0568],\n",
              "                        [ 0.0762, -0.0044,  0.0656],\n",
              "                        [-0.0407,  0.0473, -0.0594]],\n",
              "              \n",
              "                       ...,\n",
              "              \n",
              "                       [[-0.0793,  0.0506, -0.0207],\n",
              "                        [-0.0622,  0.0356,  0.0548],\n",
              "                        [-0.0765,  0.0014, -0.0526]],\n",
              "              \n",
              "                       [[-0.0030, -0.0176,  0.0233],\n",
              "                        [ 0.0268, -0.0076,  0.0256],\n",
              "                        [ 0.0578,  0.0197,  0.0285]],\n",
              "              \n",
              "                       [[-0.0339, -0.0428,  0.0321],\n",
              "                        [-0.0542, -0.0504, -0.0026],\n",
              "                        [-0.0754,  0.0658,  0.0778]]],\n",
              "              \n",
              "              \n",
              "                      [[[-0.0465, -0.0296,  0.0217],\n",
              "                        [-0.0168, -0.0721, -0.0766],\n",
              "                        [ 0.0414, -0.0383, -0.0493]],\n",
              "              \n",
              "                       [[ 0.0214, -0.0623,  0.0387],\n",
              "                        [ 0.0749, -0.0188, -0.0569],\n",
              "                        [ 0.0762, -0.0618, -0.0471]],\n",
              "              \n",
              "                       [[ 0.0516,  0.0499,  0.0516],\n",
              "                        [ 0.0500,  0.0654,  0.0736],\n",
              "                        [-0.0101,  0.0677, -0.0406]],\n",
              "              \n",
              "                       ...,\n",
              "              \n",
              "                       [[ 0.0158,  0.0527, -0.0113],\n",
              "                        [ 0.0632, -0.0800,  0.0051],\n",
              "                        [-0.0792, -0.0242,  0.0716]],\n",
              "              \n",
              "                       [[ 0.0195,  0.0515, -0.0555],\n",
              "                        [ 0.0658, -0.0497,  0.0267],\n",
              "                        [-0.0454, -0.0504, -0.0532]],\n",
              "              \n",
              "                       [[-0.0590, -0.0618,  0.0600],\n",
              "                        [-0.0189,  0.0142, -0.0609],\n",
              "                        [ 0.0666,  0.0153, -0.0287]]]], device='cuda:0')),\n",
              "             ('2.0.bias',\n",
              "              tensor([ 0.1017,  0.1980,  0.1500,  0.0490,  0.1456, -0.0847, -0.0787,  0.0837,\n",
              "                       0.0078,  0.0661,  0.0780, -0.0784,  0.0070, -0.0729,  0.0902,  0.1703,\n",
              "                      -0.0466, -0.0291, -0.0704,  0.0672,  0.0549,  0.0546, -0.0636, -0.0410,\n",
              "                       0.0830,  0.1309,  0.1305,  0.0172, -0.0558,  0.1609,  0.1087,  0.0477],\n",
              "                     device='cuda:0')),\n",
              "             ('3.0.weight',\n",
              "              tensor([[[[ 0.0295,  0.0704, -0.0251],\n",
              "                        [-0.0321, -0.0849,  0.0094],\n",
              "                        [-0.0557, -0.0184,  0.0058]],\n",
              "              \n",
              "                       [[-0.0246,  0.0202,  0.0663],\n",
              "                        [ 0.0118, -0.0079,  0.1361],\n",
              "                        [ 0.0493,  0.0207, -0.0907]],\n",
              "              \n",
              "                       [[ 0.0303, -0.0193,  0.0560],\n",
              "                        [ 0.0616, -0.0059,  0.0294],\n",
              "                        [ 0.0219,  0.0183,  0.0619]],\n",
              "              \n",
              "                       ...,\n",
              "              \n",
              "                       [[-0.0544,  0.0425, -0.0046],\n",
              "                        [ 0.0008,  0.0454,  0.1185],\n",
              "                        [ 0.0437,  0.0189, -0.0671]],\n",
              "              \n",
              "                       [[-0.0087, -0.0022, -0.0296],\n",
              "                        [ 0.0084, -0.0227, -0.0719],\n",
              "                        [-0.0471,  0.0913,  0.0024]],\n",
              "              \n",
              "                       [[-0.0454, -0.0086, -0.0280],\n",
              "                        [-0.0352,  0.0445, -0.0435],\n",
              "                        [-0.0102, -0.0277,  0.0486]]],\n",
              "              \n",
              "              \n",
              "                      [[[ 0.0504, -0.0083,  0.0134],\n",
              "                        [-0.0695, -0.0571, -0.0024],\n",
              "                        [-0.0062, -0.0445,  0.0674]],\n",
              "              \n",
              "                       [[ 0.1208,  0.0141, -0.0480],\n",
              "                        [ 0.0517,  0.0770,  0.1119],\n",
              "                        [-0.0682, -0.0194, -0.0999]],\n",
              "              \n",
              "                       [[-0.0344,  0.0080,  0.0521],\n",
              "                        [ 0.0651,  0.0391,  0.0136],\n",
              "                        [ 0.0011, -0.0504,  0.0166]],\n",
              "              \n",
              "                       ...,\n",
              "              \n",
              "                       [[ 0.0746, -0.0121, -0.0426],\n",
              "                        [ 0.0295,  0.0769,  0.1378],\n",
              "                        [-0.0414,  0.0285, -0.0560]],\n",
              "              \n",
              "                       [[-0.0486, -0.0162, -0.0113],\n",
              "                        [ 0.0414, -0.0002,  0.0820],\n",
              "                        [-0.0684, -0.0696, -0.0920]],\n",
              "              \n",
              "                       [[-0.0221,  0.0426, -0.0302],\n",
              "                        [-0.0176, -0.0014, -0.0421],\n",
              "                        [-0.0387,  0.0160,  0.0092]]],\n",
              "              \n",
              "              \n",
              "                      [[[-0.0215,  0.0201,  0.0188],\n",
              "                        [ 0.0157, -0.0425, -0.0161],\n",
              "                        [ 0.0110,  0.0136,  0.0364]],\n",
              "              \n",
              "                       [[ 0.0332,  0.0081,  0.0249],\n",
              "                        [-0.0403,  0.0126,  0.0247],\n",
              "                        [ 0.0338,  0.0512, -0.0609]],\n",
              "              \n",
              "                       [[ 0.0237,  0.0034, -0.0352],\n",
              "                        [-0.0439, -0.0494, -0.0473],\n",
              "                        [ 0.0184,  0.0556,  0.0533]],\n",
              "              \n",
              "                       ...,\n",
              "              \n",
              "                       [[-0.0310, -0.0503, -0.0481],\n",
              "                        [-0.0503, -0.0494, -0.0362],\n",
              "                        [-0.0605, -0.0554,  0.0380]],\n",
              "              \n",
              "                       [[-0.0067,  0.0209, -0.0322],\n",
              "                        [-0.0353, -0.0459,  0.0067],\n",
              "                        [ 0.0362,  0.0531,  0.0098]],\n",
              "              \n",
              "                       [[ 0.0363,  0.0417,  0.0312],\n",
              "                        [-0.0230, -0.0374, -0.0595],\n",
              "                        [ 0.0208, -0.0126,  0.0481]]],\n",
              "              \n",
              "              \n",
              "                      ...,\n",
              "              \n",
              "              \n",
              "                      [[[-0.0462, -0.0128,  0.0711],\n",
              "                        [ 0.0247,  0.0147,  0.0543],\n",
              "                        [ 0.0082, -0.0717,  0.0649]],\n",
              "              \n",
              "                       [[ 0.0421,  0.0385, -0.0498],\n",
              "                        [ 0.0307, -0.0501, -0.0398],\n",
              "                        [-0.0681,  0.0269, -0.0763]],\n",
              "              \n",
              "                       [[ 0.0117, -0.0515,  0.0197],\n",
              "                        [ 0.0197, -0.0685,  0.0634],\n",
              "                        [ 0.0052,  0.0634,  0.0210]],\n",
              "              \n",
              "                       ...,\n",
              "              \n",
              "                       [[ 0.0674,  0.0019,  0.0154],\n",
              "                        [-0.0318, -0.0371, -0.0186],\n",
              "                        [-0.0703,  0.0047,  0.0451]],\n",
              "              \n",
              "                       [[ 0.0104,  0.0150,  0.0030],\n",
              "                        [-0.0710, -0.0148, -0.0067],\n",
              "                        [ 0.0327, -0.0161, -0.0571]],\n",
              "              \n",
              "                       [[-0.0565,  0.0564, -0.0611],\n",
              "                        [-0.0311, -0.0455, -0.0148],\n",
              "                        [-0.0074,  0.0548, -0.0580]]],\n",
              "              \n",
              "              \n",
              "                      [[[ 0.0409,  0.0490, -0.0189],\n",
              "                        [ 0.0310, -0.0057,  0.0319],\n",
              "                        [-0.0099,  0.0305,  0.0109]],\n",
              "              \n",
              "                       [[-0.0368,  0.0137,  0.0170],\n",
              "                        [-0.0313, -0.0360, -0.0030],\n",
              "                        [ 0.0014,  0.0475, -0.0567]],\n",
              "              \n",
              "                       [[ 0.0547, -0.0124, -0.0509],\n",
              "                        [ 0.0553, -0.0367, -0.0047],\n",
              "                        [-0.0174,  0.0526,  0.0109]],\n",
              "              \n",
              "                       ...,\n",
              "              \n",
              "                       [[ 0.0277, -0.0271, -0.0405],\n",
              "                        [-0.0053, -0.0166, -0.0481],\n",
              "                        [-0.0247, -0.0534,  0.0056]],\n",
              "              \n",
              "                       [[-0.0100,  0.0334, -0.0453],\n",
              "                        [-0.0586, -0.0152, -0.0007],\n",
              "                        [ 0.0370,  0.0373, -0.0132]],\n",
              "              \n",
              "                       [[-0.0128,  0.0247, -0.0029],\n",
              "                        [-0.0298, -0.0365,  0.0176],\n",
              "                        [ 0.0072,  0.0300,  0.0484]]],\n",
              "              \n",
              "              \n",
              "                      [[[-0.0034, -0.0185, -0.0560],\n",
              "                        [ 0.0647,  0.0224, -0.0011],\n",
              "                        [ 0.0308, -0.0119,  0.0505]],\n",
              "              \n",
              "                       [[ 0.0396,  0.0269,  0.0504],\n",
              "                        [ 0.0035, -0.0119, -0.0646],\n",
              "                        [ 0.0392, -0.0091, -0.0380]],\n",
              "              \n",
              "                       [[ 0.0538,  0.0224, -0.0253],\n",
              "                        [ 0.0403, -0.0485, -0.0571],\n",
              "                        [ 0.0089,  0.0186, -0.0164]],\n",
              "              \n",
              "                       ...,\n",
              "              \n",
              "                       [[ 0.0358,  0.0425,  0.0385],\n",
              "                        [ 0.0350,  0.0162,  0.0048],\n",
              "                        [ 0.0684,  0.0358, -0.0075]],\n",
              "              \n",
              "                       [[-0.0022,  0.0153,  0.0256],\n",
              "                        [-0.0439,  0.0477, -0.0533],\n",
              "                        [-0.0460,  0.0143, -0.0456]],\n",
              "              \n",
              "                       [[-0.0101, -0.0346, -0.0420],\n",
              "                        [-0.0490,  0.0320,  0.0018],\n",
              "                        [-0.0234, -0.0280,  0.0489]]]], device='cuda:0')),\n",
              "             ('3.0.bias',\n",
              "              tensor([ 9.8214e-02,  9.4510e-02, -6.2581e-03,  7.5766e-02, -4.0830e-02,\n",
              "                       7.1533e-02,  1.5057e-02, -3.9790e-02,  1.6630e-02,  3.4869e-02,\n",
              "                       6.2234e-02, -4.1434e-02, -2.9792e-02, -4.6933e-02,  9.0225e-02,\n",
              "                       1.1103e-01, -7.6451e-05,  6.5472e-02,  3.3974e-02, -6.1757e-02,\n",
              "                      -1.1041e-02, -1.9020e-02, -5.9287e-03,  7.9168e-02,  4.5735e-02,\n",
              "                       3.5582e-02,  3.7040e-02, -5.3240e-02,  8.8401e-02,  3.9469e-02,\n",
              "                       4.7987e-02,  1.2599e-01,  1.3453e-01, -2.3750e-02, -5.4199e-02,\n",
              "                       5.5708e-02,  2.3924e-02, -2.1433e-02, -8.7770e-03,  4.1303e-02,\n",
              "                       5.1161e-02,  1.1917e-01, -6.8192e-03, -1.7297e-02,  5.2374e-02,\n",
              "                       6.9981e-02, -6.0519e-02,  4.9667e-02,  5.6494e-02, -2.1090e-02,\n",
              "                      -5.6274e-02,  5.9169e-02, -6.3214e-02,  1.1821e-01,  1.1428e-01,\n",
              "                       4.1757e-02,  2.5574e-02, -4.2233e-02,  3.3502e-02, -1.2671e-02,\n",
              "                       1.8520e-02, -1.3577e-02, -6.5556e-02, -4.1658e-02], device='cuda:0')),\n",
              "             ('4.weight',\n",
              "              tensor([[[[ 1.9717e-02,  2.0644e-02,  3.4256e-02],\n",
              "                        [ 2.6347e-02,  1.0211e-01,  6.1036e-03],\n",
              "                        [ 2.5166e-02, -1.4194e-03,  8.0341e-02]],\n",
              "              \n",
              "                       [[ 1.3577e-02,  4.3669e-03, -9.1224e-03],\n",
              "                        [-1.3914e-02,  4.1406e-04, -1.7904e-02],\n",
              "                        [-9.5167e-03,  7.3733e-02,  7.9022e-02]],\n",
              "              \n",
              "                       [[ 1.3657e-02, -3.8671e-02,  3.3224e-02],\n",
              "                        [ 2.0207e-02, -1.2952e-02, -1.4494e-02],\n",
              "                        [ 4.0346e-02,  4.8099e-02,  2.3674e-02]],\n",
              "              \n",
              "                       ...,\n",
              "              \n",
              "                       [[ 2.4584e-02,  3.9986e-02, -1.7827e-02],\n",
              "                        [ 1.7667e-02, -1.3996e-02,  4.6063e-02],\n",
              "                        [ 2.6926e-02,  2.5443e-02, -1.0587e-01]],\n",
              "              \n",
              "                       [[-2.9564e-02,  3.9137e-02,  1.5170e-02],\n",
              "                        [ 6.7730e-03,  3.6578e-03,  3.1370e-02],\n",
              "                        [ 2.3617e-02, -1.5237e-02,  2.1274e-02]],\n",
              "              \n",
              "                       [[ 7.0329e-04, -2.6886e-02, -3.7818e-02],\n",
              "                        [ 3.1725e-02, -1.1553e-02,  1.9563e-02],\n",
              "                        [-8.8471e-03,  1.2676e-02, -3.4370e-03]]],\n",
              "              \n",
              "              \n",
              "                      [[[ 1.9533e-02,  1.4478e-02,  1.1453e-02],\n",
              "                        [-1.1568e-02, -1.3042e-01, -4.4127e-02],\n",
              "                        [-2.6290e-02, -1.0371e-01,  1.0004e-01]],\n",
              "              \n",
              "                       [[-3.5366e-02, -1.2994e-02, -2.3097e-02],\n",
              "                        [-4.1566e-02, -1.8822e-01, -1.2713e-01],\n",
              "                        [ 7.1775e-03,  3.8622e-02, -4.8258e-02]],\n",
              "              \n",
              "                       [[ 3.3488e-02, -2.7864e-02, -5.0791e-03],\n",
              "                        [-3.8218e-02, -3.1245e-03,  5.9399e-02],\n",
              "                        [-2.4292e-02, -2.7913e-02,  2.4292e-02]],\n",
              "              \n",
              "                       ...,\n",
              "              \n",
              "                       [[ 2.2311e-02,  2.4886e-02,  1.0206e-02],\n",
              "                        [ 2.6224e-03,  2.4925e-02,  4.4755e-02],\n",
              "                        [ 1.3073e-02,  1.0664e-02,  3.9887e-03]],\n",
              "              \n",
              "                       [[ 2.2929e-02,  2.9261e-03, -1.0930e-02],\n",
              "                        [ 1.0087e-02,  1.1348e-02, -4.1432e-02],\n",
              "                        [-1.0918e-03,  3.4739e-02,  2.9605e-02]],\n",
              "              \n",
              "                       [[ 3.3468e-02,  2.4436e-02, -3.1090e-02],\n",
              "                        [-4.0657e-02, -1.6356e-02,  2.6239e-02],\n",
              "                        [-3.3788e-02,  3.0641e-02,  2.7361e-02]]],\n",
              "              \n",
              "              \n",
              "                      [[[ 2.5659e-02, -2.3720e-02, -2.3632e-02],\n",
              "                        [-2.3422e-02,  6.7104e-02, -6.9873e-02],\n",
              "                        [-3.5713e-02, -3.7558e-03,  4.0748e-02]],\n",
              "              \n",
              "                       [[-2.4857e-02, -3.6805e-02,  2.0675e-02],\n",
              "                        [ 4.5199e-03,  1.4359e-02, -1.0048e-01],\n",
              "                        [ 3.0352e-02,  6.0206e-02, -2.1445e-03]],\n",
              "              \n",
              "                       [[-4.4193e-03, -1.6345e-02,  2.1962e-02],\n",
              "                        [-3.0156e-02,  4.0645e-02, -4.8184e-02],\n",
              "                        [-3.6799e-02, -2.0474e-02, -5.4587e-02]],\n",
              "              \n",
              "                       ...,\n",
              "              \n",
              "                       [[ 1.4856e-02, -2.4299e-03,  7.3450e-03],\n",
              "                        [-1.6274e-02,  4.6198e-02,  5.5592e-02],\n",
              "                        [-2.2650e-02,  3.3795e-02, -2.9205e-02]],\n",
              "              \n",
              "                       [[-7.9630e-03, -2.7854e-02, -5.5141e-03],\n",
              "                        [ 7.2817e-03,  1.7309e-02, -2.3730e-02],\n",
              "                        [-6.4965e-03,  1.7748e-02, -3.6117e-02]],\n",
              "              \n",
              "                       [[-2.2223e-02, -4.0831e-02, -2.5132e-02],\n",
              "                        [-2.3132e-02,  2.7341e-02, -2.8924e-02],\n",
              "                        [-3.5753e-02, -4.1887e-02,  6.0093e-03]]],\n",
              "              \n",
              "              \n",
              "                      ...,\n",
              "              \n",
              "              \n",
              "                      [[[ 1.0316e-02,  5.4480e-04,  6.4188e-03],\n",
              "                        [-2.4716e-02, -2.3046e-02,  5.1688e-02],\n",
              "                        [-2.9562e-04, -8.9837e-02, -7.9342e-02]],\n",
              "              \n",
              "                       [[ 1.0399e-02, -1.9812e-02,  4.0995e-03],\n",
              "                        [ 5.6567e-03, -6.1593e-02,  9.6912e-03],\n",
              "                        [ 2.9652e-02, -5.7979e-02, -1.1698e-01]],\n",
              "              \n",
              "                       [[ 2.1209e-02,  1.3058e-02, -3.6798e-02],\n",
              "                        [-2.7053e-02, -1.2241e-02,  2.6684e-02],\n",
              "                        [ 1.4431e-02, -3.6615e-02, -1.7325e-02]],\n",
              "              \n",
              "                       ...,\n",
              "              \n",
              "                       [[-2.4985e-03,  3.2577e-02, -2.4035e-03],\n",
              "                        [-2.3683e-03, -4.7746e-04,  2.1033e-02],\n",
              "                        [ 2.8081e-02, -3.2755e-02, -7.5664e-02]],\n",
              "              \n",
              "                       [[ 8.4356e-03, -1.4162e-02,  2.8657e-02],\n",
              "                        [ 2.0634e-02, -1.9290e-02, -1.2753e-02],\n",
              "                        [ 1.2365e-02, -1.1654e-02, -2.9517e-02]],\n",
              "              \n",
              "                       [[-5.5428e-04, -3.7231e-04,  3.3157e-02],\n",
              "                        [-1.6194e-02, -4.1075e-02,  6.3021e-02],\n",
              "                        [ 1.0923e-02, -5.0133e-03, -3.6813e-02]]],\n",
              "              \n",
              "              \n",
              "                      [[[ 2.5003e-03, -2.5475e-02,  4.8799e-03],\n",
              "                        [ 2.8738e-02,  9.6984e-02,  8.6977e-02],\n",
              "                        [ 1.6107e-02,  3.8127e-02,  8.3624e-02]],\n",
              "              \n",
              "                       [[ 3.0803e-02,  3.6766e-02, -2.6846e-02],\n",
              "                        [-3.7676e-02,  1.4318e-01,  2.2136e-01],\n",
              "                        [-5.9988e-03, -8.4563e-02,  1.7651e-02]],\n",
              "              \n",
              "                       [[-1.9051e-02, -1.8951e-03, -3.2152e-05],\n",
              "                        [ 3.7215e-02,  2.3005e-02, -8.8023e-03],\n",
              "                        [ 3.2829e-02,  1.0361e-01,  3.1452e-03]],\n",
              "              \n",
              "                       ...,\n",
              "              \n",
              "                       [[-3.2356e-02, -2.2712e-02, -6.8899e-03],\n",
              "                        [-3.5565e-03, -3.2405e-02, -1.7569e-02],\n",
              "                        [-1.4664e-02, -3.8049e-03,  4.3882e-03]],\n",
              "              \n",
              "                       [[-2.2214e-02, -2.0286e-02,  2.4891e-03],\n",
              "                        [-2.0696e-02,  4.1726e-03, -3.1227e-02],\n",
              "                        [-2.6200e-02, -2.1105e-02, -1.7934e-02]],\n",
              "              \n",
              "                       [[ 1.8347e-02,  8.3629e-03,  3.2500e-02],\n",
              "                        [-2.7383e-02, -3.0580e-04, -8.5516e-02],\n",
              "                        [-1.8554e-03, -4.1711e-02, -3.0156e-02]]],\n",
              "              \n",
              "              \n",
              "                      [[[-2.0218e-02,  2.6367e-02,  3.9220e-02],\n",
              "                        [ 2.5119e-02, -3.1558e-02,  9.2338e-02],\n",
              "                        [ 2.2142e-02,  6.6021e-02, -5.8661e-02]],\n",
              "              \n",
              "                       [[-3.6210e-02,  4.6078e-03, -3.5670e-02],\n",
              "                        [ 1.4671e-02, -8.7703e-02,  3.7603e-03],\n",
              "                        [-6.3016e-03, -1.2025e-02, -3.7199e-02]],\n",
              "              \n",
              "                       [[ 1.5647e-02,  2.6089e-02,  1.0843e-02],\n",
              "                        [-3.4891e-02, -3.5111e-02, -2.7348e-03],\n",
              "                        [-3.4324e-02,  6.6480e-02,  8.7164e-02]],\n",
              "              \n",
              "                       ...,\n",
              "              \n",
              "                       [[ 3.3266e-02, -1.3137e-02, -2.4090e-02],\n",
              "                        [ 5.6754e-03,  6.5239e-03, -2.6652e-02],\n",
              "                        [-2.8966e-02, -3.7958e-02,  2.2430e-01]],\n",
              "              \n",
              "                       [[ 6.2373e-03, -1.1297e-02,  3.4141e-02],\n",
              "                        [ 2.0597e-02,  6.9182e-03, -4.1322e-02],\n",
              "                        [-1.0773e-02,  2.5955e-02, -1.1633e-02]],\n",
              "              \n",
              "                       [[-8.6625e-05,  3.0178e-02, -9.1360e-03],\n",
              "                        [-3.8351e-02,  9.3049e-03,  9.5330e-02],\n",
              "                        [-3.6062e-02,  2.5360e-03, -3.9322e-02]]]], device='cuda:0')),\n",
              "             ('4.bias',\n",
              "              tensor([ 0.0186, -0.1406,  0.1487, -0.0972, -0.0095,  0.0741,  0.1288, -0.0736,\n",
              "                       0.0426, -0.0972], device='cuda:0'))])"
            ]
          },
          "metadata": {},
          "execution_count": 38
        }
      ]
    },
    {
      "cell_type": "markdown",
      "source": [
        "## Optimizer with momentum"
      ],
      "metadata": {
        "id": "fqdz-JA5XNXb"
      }
    },
    {
      "cell_type": "code",
      "source": [
        "model = get_model().to(device)\n",
        "optimizer_mom = torch.optim.SGD(model.parameters(), lr=0.2, momentum=0.9)\n",
        "criterion = nn.CrossEntropyLoss()"
      ],
      "metadata": {
        "id": "9AUox0l7TI4V"
      },
      "execution_count": 39,
      "outputs": []
    },
    {
      "cell_type": "code",
      "source": [
        "torch.manual_seed(42)\n",
        "\n",
        "epochs = 5\n",
        "for epoch in range(epochs):\n",
        "  print(f\"Epoch: {epoch}\\n---------\")\n",
        "  train_step(data_loader=tr_dl,\n",
        "      model=model,\n",
        "      loss_fn=criterion,\n",
        "      optimizer=optimizer_mom,\n",
        "      accuracy_fn=MulticlassAccuracy(num_classes=10).to(device),\n",
        "      device = device\n",
        "  )\n",
        "  test_step(data_loader=tst_dl,\n",
        "      model=model,\n",
        "      loss_fn=criterion,\n",
        "      accuracy_fn=MulticlassAccuracy(num_classes=10).to(device),\n",
        "      device = device\n",
        "  )"
      ],
      "metadata": {
        "colab": {
          "base_uri": "https://localhost:8080/"
        },
        "id": "vfB3inFL2aE5",
        "outputId": "d7891ded-cd16-4a05-a349-8cc7eed744a6"
      },
      "execution_count": 40,
      "outputs": [
        {
          "output_type": "stream",
          "name": "stdout",
          "text": [
            "Epoch: 0\n",
            "---------\n",
            "Train loss: 2.3197696208953857 | Train accuracy: 0.1481204479932785%\n",
            "Test loss: 2.29475 | Test accuracy: 0.10%\n",
            "\n",
            "Epoch: 1\n",
            "---------\n",
            "Train loss: 2.0851387977600098 | Train accuracy: 0.25398877263069153%\n",
            "Test loss: 1.23814 | Test accuracy: 0.55%\n",
            "\n",
            "Epoch: 2\n",
            "---------\n",
            "Train loss: 1.7652733325958252 | Train accuracy: 0.36521580815315247%\n",
            "Test loss: 1.23800 | Test accuracy: 0.50%\n",
            "\n",
            "Epoch: 3\n",
            "---------\n",
            "Train loss: 0.7790383100509644 | Train accuracy: 0.7098100781440735%\n",
            "Test loss: 0.67900 | Test accuracy: 0.74%\n",
            "\n",
            "Epoch: 4\n",
            "---------\n",
            "Train loss: 0.5755404233932495 | Train accuracy: 0.7860608696937561%\n",
            "Test loss: 0.54242 | Test accuracy: 0.80%\n",
            "\n"
          ]
        }
      ]
    },
    {
      "cell_type": "markdown",
      "source": [
        "# 2. Data: huggingface"
      ],
      "metadata": {
        "id": "Ds1rbWbB5prn"
      }
    },
    {
      "cell_type": "code",
      "source": [
        "!pip install -q datasets"
      ],
      "metadata": {
        "id": "Mx0GBy0u2aB3"
      },
      "execution_count": 10,
      "outputs": []
    },
    {
      "cell_type": "code",
      "source": [
        "import torchvision.transforms.functional as TF,torch.nn.functional as F"
      ],
      "metadata": {
        "id": "qu2WbN-08T7U"
      },
      "execution_count": 11,
      "outputs": []
    },
    {
      "cell_type": "code",
      "source": [
        "from datasets import load_dataset"
      ],
      "metadata": {
        "id": "CtYyPVzp6UXA"
      },
      "execution_count": 12,
      "outputs": []
    },
    {
      "cell_type": "code",
      "source": [
        "from miniai.datasets import *\n",
        "from miniai.conv import *\n",
        "from miniai.learner import *\n",
        "from miniai.activations import *"
      ],
      "metadata": {
        "id": "YoHkqo9O8w9o"
      },
      "execution_count": 13,
      "outputs": []
    },
    {
      "cell_type": "code",
      "source": [
        "x,y = 'image','label'\n",
        "name = \"fashion_mnist\"\n",
        "dsd = load_dataset(name)\n",
        "bs = 1024\n",
        "\n",
        "@inplace\n",
        "def transformi(b): b[x] = [TF.to_tensor(o) for o in b[x]]\n",
        "\n",
        "tds = dsd.with_transform(transformi)\n",
        "dls = DataLoaders.from_dd(tds, bs, num_workers=2)\n",
        "dt = dls.train"
      ],
      "metadata": {
        "colab": {
          "base_uri": "https://localhost:8080/",
          "height": 273,
          "referenced_widgets": [
            "04b520d6ac934f8889d52be8ac21c67b",
            "da63da72c8744a53a27d2eca30f4dd2b",
            "6caf62ce9594440caf4fbc458acd80ca",
            "93a9e2de7e204ad38ff931ffdb558600",
            "83193dc6c34d40fca38b0ea84e5aace0",
            "a1213bba66ba43669f19bdf4da7ccc12",
            "ce305e0cbb7a4ed1a57277a68151a7d2",
            "983fb04b309f4a49854f86f7ccdbf429",
            "b5c70d238e7146da8e172c6106345feb",
            "3ca69d75267847bf9659d8a8a963fe86",
            "ab6fb1f6154e4af5bbcc18f97bc768b0",
            "fb6769da2c794cd8a454a3463d6ed62f",
            "f370a660b6ff455fa89a4c08e2596d1d",
            "c4a5f81dd9294675b6c738c12ad2331c",
            "fefec07dd5344afea9e00713a2aead39",
            "69d4c4f8f32e45a7a7c7ebbab5f3b2b2",
            "65053c9008514bacaf5fdf60f440c82e",
            "218d37fc39d24db4ac8ff24ad663a59b",
            "424ad0a9a4b74d1e9d9c2ead671fbd0c",
            "ecb5333f89bc46beafb82ff66d51b55a",
            "63698f5a979b453abdf4d8f53fb3956d",
            "459d11f6af8e40639dc89f8e05819068",
            "03f3f8e73dc1476585995bd1a2af287e",
            "9802c670c92147c59a1f0c44d4194d5e",
            "8ecf65f9c81f414eb0d24e41349f3a37",
            "f50579b030cc4bb596c727eb0f9bfe12",
            "2c7270963c664ce48dbf68a1eda86e27",
            "d745e450b03a488d8df2548287919e36",
            "e3b341db43584dd6ac098fcea18ea705",
            "4244a85b715649c9be79e2dc7189df87",
            "e97f8817996e4198b167bf25c7fd2746",
            "20ed2944d58e47b9bc48ab4d33e2153d",
            "0e4db659a6a14518909e6a44fb009afc",
            "d2c404c15b3c4e728113753ecda02b6b",
            "049b980c18cb4fe5bbda0b746c85b550",
            "a595c9290cb6468296745a3bbdc21e7c",
            "e5a047b8f9ae4a9eb312fb45ccdead60",
            "7552ab12f960483da6b616592c73d875",
            "bc1a4f8608664d85aeaad635e3ef3a18",
            "e1451496a842400ea1f637ab9f11d216",
            "b09d6731730d459aa618b2cd1f01dc36",
            "087dfba48f0646928ebf2f0974b0f029",
            "1728139c73ac4c5181818e0159ce75de",
            "d70c62a26f064124877f3beb2e1ea10f",
            "c690b5930df347c2af41e2caaf698444",
            "e6193061ff6a4ee38336c3900c5eef78",
            "1e979c499cd8449e88a068bf17d0f3a8",
            "21bddc51704448e19d581fa41ea9c15c",
            "467b58c64d8643488928279e19586c46",
            "00e5a094744845969c482f501b7ef963",
            "78bc1d6c046b4b1db96e247aef67a6d0",
            "ca57423c17934ec6a16ce9efb4be7437",
            "1694c13d333c4dcf85dd2498f76e1c86",
            "d65416bb103e4dc3a0580cc939950a64",
            "dc5f462c20da4ecea4602933baf202dc",
            "1ffb795328c54cb49df00a65522394b4",
            "891f0eeba41b436780e5b14ee9aaa581",
            "594ac431fd7841ab8ce375a886de64b1",
            "4787776d51644780b1c18c2b075b0e13",
            "5876bba7533b4176af45269a0cccdc34",
            "32151dc0b7644c418efe65fbfa27b1de",
            "067e7ca6b37340aaaea8b257cb70115e",
            "9d5b9183e01c4e40aba14c6756fb61f3",
            "9c72c822609a49029a64dd5da2c5408c",
            "f27a92224ec64694a3130346f0cf8606",
            "d08f0cd11ab74396a78425619c9bfff3",
            "b8e323d82efb4dc3a91645d729e36916",
            "ff8fe61078ac4c06b54f7e3973ee4c05",
            "370a64e163ef4fe5a831b07e9921ca91",
            "7c9b982e57cd449ea424303887496943",
            "9e8d45e6ebf846de9db9b3eac2c57b3b",
            "391ef79bd8bb44bbb85b0129a576f170",
            "307efbdf7d4840939590babb208433b0",
            "40be9b5919b14fd6bef5099743a4537d",
            "6fb88ee93d8a4257aa32180374a34c08",
            "93c083d766a148c1aaa039e68b4bb86b",
            "a58989f03d7f46baa333e5e11ee001d8",
            "1403c520de4e409bb9367718b4ddeb61",
            "08b4625cb9c34b9cbd91e81f5a00e220",
            "bcf71daaac9944b7b5709fa30d602dc6",
            "5be81395592b4942ae16e5dfc295129c",
            "a66bac569eda4adc83070d7b5018a57a",
            "d10a7b3510d943c1a5ac95578f84fef3",
            "eaea7e7fec6e4ddb80a2bf23c4759d34",
            "2e27d43d9bb74f359509a163d6de632e",
            "f19cbbbc42c9442ea3f8643a9dbf1ab5",
            "e909864ff9864ba7b57f96cac35f31a5",
            "eb1bb901ba264156881e998ecb5910d3"
          ]
        },
        "id": "lwe9pqdL6UB0",
        "outputId": "45c28e85-da3d-4078-e56d-c23ca5dcf96d"
      },
      "execution_count": 15,
      "outputs": [
        {
          "output_type": "display_data",
          "data": {
            "text/plain": [
              "Downloading data files:   0%|          | 0/4 [00:00<?, ?it/s]"
            ],
            "application/vnd.jupyter.widget-view+json": {
              "version_major": 2,
              "version_minor": 0,
              "model_id": "04b520d6ac934f8889d52be8ac21c67b"
            }
          },
          "metadata": {}
        },
        {
          "output_type": "display_data",
          "data": {
            "text/plain": [
              "Downloading data:   0%|          | 0.00/26.4M [00:00<?, ?B/s]"
            ],
            "application/vnd.jupyter.widget-view+json": {
              "version_major": 2,
              "version_minor": 0,
              "model_id": "fb6769da2c794cd8a454a3463d6ed62f"
            }
          },
          "metadata": {}
        },
        {
          "output_type": "display_data",
          "data": {
            "text/plain": [
              "Downloading data:   0%|          | 0.00/29.5k [00:00<?, ?B/s]"
            ],
            "application/vnd.jupyter.widget-view+json": {
              "version_major": 2,
              "version_minor": 0,
              "model_id": "03f3f8e73dc1476585995bd1a2af287e"
            }
          },
          "metadata": {}
        },
        {
          "output_type": "display_data",
          "data": {
            "text/plain": [
              "Downloading data:   0%|          | 0.00/4.42M [00:00<?, ?B/s]"
            ],
            "application/vnd.jupyter.widget-view+json": {
              "version_major": 2,
              "version_minor": 0,
              "model_id": "d2c404c15b3c4e728113753ecda02b6b"
            }
          },
          "metadata": {}
        },
        {
          "output_type": "display_data",
          "data": {
            "text/plain": [
              "Downloading data:   0%|          | 0.00/5.15k [00:00<?, ?B/s]"
            ],
            "application/vnd.jupyter.widget-view+json": {
              "version_major": 2,
              "version_minor": 0,
              "model_id": "c690b5930df347c2af41e2caaf698444"
            }
          },
          "metadata": {}
        },
        {
          "output_type": "display_data",
          "data": {
            "text/plain": [
              "Extracting data files:   0%|          | 0/4 [00:00<?, ?it/s]"
            ],
            "application/vnd.jupyter.widget-view+json": {
              "version_major": 2,
              "version_minor": 0,
              "model_id": "1ffb795328c54cb49df00a65522394b4"
            }
          },
          "metadata": {}
        },
        {
          "output_type": "display_data",
          "data": {
            "text/plain": [
              "Generating train split:   0%|          | 0/60000 [00:00<?, ? examples/s]"
            ],
            "application/vnd.jupyter.widget-view+json": {
              "version_major": 2,
              "version_minor": 0,
              "model_id": "b8e323d82efb4dc3a91645d729e36916"
            }
          },
          "metadata": {}
        },
        {
          "output_type": "display_data",
          "data": {
            "text/plain": [
              "Generating test split:   0%|          | 0/10000 [00:00<?, ? examples/s]"
            ],
            "application/vnd.jupyter.widget-view+json": {
              "version_major": 2,
              "version_minor": 0,
              "model_id": "1403c520de4e409bb9367718b4ddeb61"
            }
          },
          "metadata": {}
        }
      ]
    },
    {
      "cell_type": "code",
      "source": [
        "type(dsd), type(tds), type(dls)"
      ],
      "metadata": {
        "colab": {
          "base_uri": "https://localhost:8080/"
        },
        "id": "Z8E1Xw8XINh1",
        "outputId": "60324b3e-c70c-424c-bc2f-5eec39c4ee12"
      },
      "execution_count": 17,
      "outputs": [
        {
          "output_type": "execute_result",
          "data": {
            "text/plain": [
              "(datasets.dataset_dict.DatasetDict,\n",
              " datasets.dataset_dict.DatasetDict,\n",
              " miniai.datasets.DataLoaders)"
            ]
          },
          "metadata": {},
          "execution_count": 17
        }
      ]
    },
    {
      "cell_type": "code",
      "source": [
        "xb,yb = next(iter(dt))\n",
        "xb.shape, yb.shape"
      ],
      "metadata": {
        "colab": {
          "base_uri": "https://localhost:8080/"
        },
        "id": "kpEEfXgJ6fGK",
        "outputId": "5dd9a222-1fbd-4154-e7e9-8580576afb72"
      },
      "execution_count": 12,
      "outputs": [
        {
          "output_type": "execute_result",
          "data": {
            "text/plain": [
              "(torch.Size([1024, 1, 28, 28]), torch.Size([1024]))"
            ]
          },
          "metadata": {},
          "execution_count": 12
        }
      ]
    },
    {
      "cell_type": "markdown",
      "source": [
        "## Model and opt"
      ],
      "metadata": {
        "id": "WU_3Vy9k5x3H"
      }
    },
    {
      "cell_type": "code",
      "source": [
        "def get_model():\n",
        "    return nn.Sequential(conv(1 ,8), conv(8 ,16), conv(16,32), conv(32,64),\n",
        "                         conv(64,10, act=False), nn.Flatten())\n",
        "\n",
        "get_model()"
      ],
      "metadata": {
        "colab": {
          "base_uri": "https://localhost:8080/"
        },
        "id": "j8BqHWzH2Z8R",
        "outputId": "047333c4-89b8-4847-e20b-a8cc92fdd485"
      },
      "execution_count": 13,
      "outputs": [
        {
          "output_type": "execute_result",
          "data": {
            "text/plain": [
              "Sequential(\n",
              "  (0): Sequential(\n",
              "    (0): Conv2d(1, 8, kernel_size=(3, 3), stride=(2, 2), padding=(1, 1))\n",
              "    (1): ReLU()\n",
              "  )\n",
              "  (1): Sequential(\n",
              "    (0): Conv2d(8, 16, kernel_size=(3, 3), stride=(2, 2), padding=(1, 1))\n",
              "    (1): ReLU()\n",
              "  )\n",
              "  (2): Sequential(\n",
              "    (0): Conv2d(16, 32, kernel_size=(3, 3), stride=(2, 2), padding=(1, 1))\n",
              "    (1): ReLU()\n",
              "  )\n",
              "  (3): Sequential(\n",
              "    (0): Conv2d(32, 64, kernel_size=(3, 3), stride=(2, 2), padding=(1, 1))\n",
              "    (1): ReLU()\n",
              "  )\n",
              "  (4): Conv2d(64, 10, kernel_size=(3, 3), stride=(2, 2), padding=(1, 1))\n",
              "  (5): Flatten(start_dim=1, end_dim=-1)\n",
              ")"
            ]
          },
          "metadata": {},
          "execution_count": 13
        }
      ]
    },
    {
      "cell_type": "code",
      "source": [
        "get_model()(xb).shape"
      ],
      "metadata": {
        "colab": {
          "base_uri": "https://localhost:8080/"
        },
        "id": "N_Bn8Xka9kLz",
        "outputId": "bdddc6f3-a197-4f29-914b-89231656a198"
      },
      "execution_count": 14,
      "outputs": [
        {
          "output_type": "execute_result",
          "data": {
            "text/plain": [
              "torch.Size([1024, 10])"
            ]
          },
          "metadata": {},
          "execution_count": 14
        }
      ]
    },
    {
      "cell_type": "code",
      "source": [
        "model = get_model().to(device)\n",
        "optimizer = torch.optim.SGD(model.parameters(), lr=0.2)\n",
        "optimizer_mom = torch.optim.SGD(model.parameters(), lr=0.2, momentum=0.9)\n",
        "criterion = nn.CrossEntropyLoss()"
      ],
      "metadata": {
        "id": "TM2nAKSu9rsN"
      },
      "execution_count": 56,
      "outputs": []
    },
    {
      "cell_type": "markdown",
      "source": [
        "## Training loop"
      ],
      "metadata": {
        "id": "fMPA5qFQ52ZG"
      }
    },
    {
      "cell_type": "code",
      "source": [
        "!pip install -q torchmetrics\n",
        "from torchmetrics.classification import MulticlassAccuracy"
      ],
      "metadata": {
        "colab": {
          "base_uri": "https://localhost:8080/"
        },
        "id": "ZgQL2LZa2Z5u",
        "outputId": "70ca1b93-44fc-4877-b798-792b30cdac4a"
      },
      "execution_count": 16,
      "outputs": [
        {
          "output_type": "stream",
          "name": "stdout",
          "text": [
            "\u001b[?25l     \u001b[90m━━━━━━━━━━━━━━━━━━━━━━━━━━━━━━━━━━━━━━━━\u001b[0m \u001b[32m0.0/763.4 kB\u001b[0m \u001b[31m?\u001b[0m eta \u001b[36m-:--:--\u001b[0m\r\u001b[2K     \u001b[91m━━━━━━━━━\u001b[0m\u001b[90m╺\u001b[0m\u001b[90m━━━━━━━━━━━━━━━━━━━━━━━━━━━━━\u001b[0m \u001b[32m184.3/763.4 kB\u001b[0m \u001b[31m5.2 MB/s\u001b[0m eta \u001b[36m0:00:01\u001b[0m\r\u001b[2K     \u001b[91m━━━━━━━━━━━━━━━━━━━━━━━━━━━━━━━━━\u001b[0m\u001b[90m╺\u001b[0m\u001b[90m━━━━━\u001b[0m \u001b[32m655.4/763.4 kB\u001b[0m \u001b[31m9.6 MB/s\u001b[0m eta \u001b[36m0:00:01\u001b[0m\r\u001b[2K     \u001b[90m━━━━━━━━━━━━━━━━━━━━━━━━━━━━━━━━━━━━━━━\u001b[0m \u001b[32m763.4/763.4 kB\u001b[0m \u001b[31m8.7 MB/s\u001b[0m eta \u001b[36m0:00:00\u001b[0m\n",
            "\u001b[?25h"
          ]
        }
      ]
    },
    {
      "cell_type": "code",
      "source": [
        "dsds = dls.valid\n",
        "a,b = next(iter(dsds))\n",
        "a.shape"
      ],
      "metadata": {
        "colab": {
          "base_uri": "https://localhost:8080/"
        },
        "id": "Gty2yw-D-gMc",
        "outputId": "fb036e54-0591-429e-9642-0cebdffda7ac"
      },
      "execution_count": 19,
      "outputs": [
        {
          "output_type": "execute_result",
          "data": {
            "text/plain": [
              "torch.Size([2048, 1, 28, 28])"
            ]
          },
          "metadata": {},
          "execution_count": 19
        }
      ]
    },
    {
      "cell_type": "code",
      "source": [
        "torch.manual_seed(42)\n",
        "\n",
        "epochs = 5\n",
        "for epoch in range(epochs):\n",
        "  print(f\"Epoch: {epoch}\\n---------\")\n",
        "  train_step(data_loader=dls.train,\n",
        "      model=model,\n",
        "      loss_fn=criterion,\n",
        "      optimizer=optimizer,\n",
        "      accuracy_fn=MulticlassAccuracy(num_classes=10).to(device),\n",
        "      device = device\n",
        "  )\n",
        "  test_step(data_loader=dls.valid,\n",
        "      model=model,\n",
        "      loss_fn=criterion,\n",
        "      accuracy_fn=MulticlassAccuracy(num_classes=10).to(device),\n",
        "      device = device\n",
        "  )"
      ],
      "metadata": {
        "colab": {
          "base_uri": "https://localhost:8080/"
        },
        "id": "ROXfNklh9-DM",
        "outputId": "e84bd217-fb32-4e48-bb14-36fda2408e5b"
      },
      "execution_count": 20,
      "outputs": [
        {
          "output_type": "stream",
          "name": "stdout",
          "text": [
            "Epoch: 0\n",
            "---------\n",
            "Train loss: 2.2988195419311523 | Train accuracy: 0.13190743327140808%\n",
            "Test loss: 2.28642 | Test accuracy: 0.13%\n",
            "\n",
            "Epoch: 1\n",
            "---------\n",
            "Train loss: 1.756495714187622 | Train accuracy: 0.41380569338798523%\n",
            "Test loss: 1.10228 | Test accuracy: 0.56%\n",
            "\n",
            "Epoch: 2\n",
            "---------\n",
            "Train loss: 0.8644846081733704 | Train accuracy: 0.6808960437774658%\n",
            "Test loss: 0.78751 | Test accuracy: 0.70%\n",
            "\n",
            "Epoch: 3\n",
            "---------\n",
            "Train loss: 0.7048178315162659 | Train accuracy: 0.739458441734314%\n",
            "Test loss: 0.66722 | Test accuracy: 0.75%\n",
            "\n",
            "Epoch: 4\n",
            "---------\n",
            "Train loss: 0.6264652609825134 | Train accuracy: 0.7677029967308044%\n",
            "Test loss: 0.59748 | Test accuracy: 0.78%\n",
            "\n"
          ]
        }
      ]
    },
    {
      "cell_type": "markdown",
      "source": [
        "## optimizer with momentum"
      ],
      "metadata": {
        "id": "4t0lmWyP5_RW"
      }
    },
    {
      "cell_type": "code",
      "source": [
        "model = get_model().to(device)\n",
        "optimizer_mom = torch.optim.SGD(model.parameters(), lr=0.2, momentum=0.9)\n",
        "criterion = nn.CrossEntropyLoss()"
      ],
      "metadata": {
        "id": "gh1rBgaJ_PIW"
      },
      "execution_count": 21,
      "outputs": []
    },
    {
      "cell_type": "code",
      "execution_count": 22,
      "metadata": {
        "colab": {
          "base_uri": "https://localhost:8080/"
        },
        "id": "5pSiOs9b1sUX",
        "outputId": "603162e7-7d79-4d10-bc46-23139dd746c5"
      },
      "outputs": [
        {
          "output_type": "stream",
          "name": "stdout",
          "text": [
            "Epoch: 0\n",
            "---------\n",
            "Train loss: 2.3197684288024902 | Train accuracy: 0.1481204479932785%\n",
            "Test loss: 2.29469 | Test accuracy: 0.10%\n",
            "\n",
            "Epoch: 1\n",
            "---------\n",
            "Train loss: 2.2559239864349365 | Train accuracy: 0.15687434375286102%\n",
            "Test loss: 2.30743 | Test accuracy: 0.10%\n",
            "\n",
            "Epoch: 2\n",
            "---------\n",
            "Train loss: 2.303496837615967 | Train accuracy: 0.09999994188547134%\n",
            "Test loss: 2.30287 | Test accuracy: 0.10%\n",
            "\n",
            "Epoch: 3\n",
            "---------\n",
            "Train loss: 2.3029627799987793 | Train accuracy: 0.09999994188547134%\n",
            "Test loss: 2.30286 | Test accuracy: 0.10%\n",
            "\n",
            "Epoch: 4\n",
            "---------\n",
            "Train loss: 2.3030648231506348 | Train accuracy: 0.09999994188547134%\n",
            "Test loss: 2.30296 | Test accuracy: 0.10%\n",
            "\n"
          ]
        }
      ],
      "source": [
        "torch.manual_seed(42)\n",
        "\n",
        "epochs = 5\n",
        "for epoch in range(epochs):\n",
        "  print(f\"Epoch: {epoch}\\n---------\")\n",
        "  train_step(data_loader=dls.train,\n",
        "      model=model,\n",
        "      loss_fn=criterion,\n",
        "      optimizer=optimizer_mom,\n",
        "      accuracy_fn=MulticlassAccuracy(num_classes=10).to(device),\n",
        "      device = device\n",
        "  )\n",
        "  test_step(data_loader=dls.valid,\n",
        "      model=model,\n",
        "      loss_fn=criterion,\n",
        "      accuracy_fn=MulticlassAccuracy(num_classes=10).to(device),\n",
        "      device = device\n",
        "  )"
      ]
    },
    {
      "cell_type": "markdown",
      "source": [
        "# Experiments with huggingface data"
      ],
      "metadata": {
        "id": "YikIC_qpAj2_"
      }
    },
    {
      "cell_type": "code",
      "source": [
        "dsd"
      ],
      "metadata": {
        "colab": {
          "base_uri": "https://localhost:8080/"
        },
        "id": "-HDHcA_Q_sWj",
        "outputId": "dfb3a465-6f38-4e49-887e-f475481842b8"
      },
      "execution_count": 23,
      "outputs": [
        {
          "output_type": "execute_result",
          "data": {
            "text/plain": [
              "DatasetDict({\n",
              "    train: Dataset({\n",
              "        features: ['image', 'label'],\n",
              "        num_rows: 60000\n",
              "    })\n",
              "    test: Dataset({\n",
              "        features: ['image', 'label'],\n",
              "        num_rows: 10000\n",
              "    })\n",
              "})"
            ]
          },
          "metadata": {},
          "execution_count": 23
        }
      ]
    },
    {
      "cell_type": "code",
      "source": [
        "@inplace\n",
        "def transformi(b): b[xl] = [TF.to_tensor(o) for o in b[xl]]\n",
        "\n",
        "bs = 1024\n",
        "tds = dsd.with_transform(transformi)"
      ],
      "metadata": {
        "id": "mQpKuuTrAtGs"
      },
      "execution_count": 24,
      "outputs": []
    },
    {
      "cell_type": "code",
      "source": [
        "tds"
      ],
      "metadata": {
        "colab": {
          "base_uri": "https://localhost:8080/"
        },
        "id": "LkD6XG7GA0vb",
        "outputId": "27192540-fe0f-41c7-949e-45c1154a9f21"
      },
      "execution_count": 25,
      "outputs": [
        {
          "output_type": "execute_result",
          "data": {
            "text/plain": [
              "DatasetDict({\n",
              "    train: Dataset({\n",
              "        features: ['image', 'label'],\n",
              "        num_rows: 60000\n",
              "    })\n",
              "    test: Dataset({\n",
              "        features: ['image', 'label'],\n",
              "        num_rows: 10000\n",
              "    })\n",
              "})"
            ]
          },
          "metadata": {},
          "execution_count": 25
        }
      ]
    },
    {
      "cell_type": "code",
      "source": [
        "DataLoaders.from_dd"
      ],
      "metadata": {
        "colab": {
          "base_uri": "https://localhost:8080/"
        },
        "id": "nDTu3LYZA2Nb",
        "outputId": "e444d3b1-e9a7-45f2-a2f6-96a786ff6a0e"
      },
      "execution_count": 27,
      "outputs": [
        {
          "output_type": "execute_result",
          "data": {
            "text/plain": [
              "<bound method DataLoaders.from_dd of <class 'miniai.datasets.DataLoaders'>>"
            ]
          },
          "metadata": {},
          "execution_count": 27
        }
      ]
    },
    {
      "cell_type": "code",
      "source": [
        "tds[\"train\"]"
      ],
      "metadata": {
        "colab": {
          "base_uri": "https://localhost:8080/"
        },
        "id": "gNhwhphfBGqc",
        "outputId": "09aa2170-94cb-4f9b-a59d-2f090acc573e"
      },
      "execution_count": 30,
      "outputs": [
        {
          "output_type": "execute_result",
          "data": {
            "text/plain": [
              "Dataset({\n",
              "    features: ['image', 'label'],\n",
              "    num_rows: 60000\n",
              "})"
            ]
          },
          "metadata": {},
          "execution_count": 30
        }
      ]
    },
    {
      "cell_type": "code",
      "source": [
        "tds[\"train\"].shape"
      ],
      "metadata": {
        "colab": {
          "base_uri": "https://localhost:8080/"
        },
        "id": "j0lAW40ABGA8",
        "outputId": "2c76f1b2-1d63-4c8d-f491-d95a54696da3"
      },
      "execution_count": 31,
      "outputs": [
        {
          "output_type": "execute_result",
          "data": {
            "text/plain": [
              "(60000, 2)"
            ]
          },
          "metadata": {},
          "execution_count": 31
        }
      ]
    },
    {
      "cell_type": "code",
      "source": [
        "# torch.utils.data.DataLoader"
      ],
      "metadata": {
        "id": "A-EXjjQoA8pY"
      },
      "execution_count": null,
      "outputs": []
    },
    {
      "cell_type": "code",
      "source": [
        "x,y = 'image','label'\n",
        "name = \"fashion_mnist\"\n",
        "ds_train = load_dataset(name, split=\"train\")\n",
        "ds_test = load_dataset(name, split=\"test\")\n",
        "\n",
        "bs = 1024"
      ],
      "metadata": {
        "id": "2EjplSlUI0rY"
      },
      "execution_count": 43,
      "outputs": []
    },
    {
      "cell_type": "code",
      "source": [
        "import datasets"
      ],
      "metadata": {
        "id": "qnUrJGBsJVU-"
      },
      "execution_count": 20,
      "outputs": []
    },
    {
      "cell_type": "code",
      "source": [
        "ds_test"
      ],
      "metadata": {
        "colab": {
          "base_uri": "https://localhost:8080/"
        },
        "id": "41GwgQl1WLiE",
        "outputId": "ed9124c0-9742-4aa4-d233-f1cd074b52e8"
      },
      "execution_count": 47,
      "outputs": [
        {
          "output_type": "execute_result",
          "data": {
            "text/plain": [
              "Dataset({\n",
              "    features: ['image', 'label'],\n",
              "    num_rows: 10000\n",
              "})"
            ]
          },
          "metadata": {},
          "execution_count": 47
        }
      ]
    },
    {
      "cell_type": "code",
      "source": [
        "# ds_train.set_format(type=\"torch\")\n",
        "# ds_test.set_format(type=\"torch\")\n",
        "ds_train.set_format(type='torch', columns=['image', 'label'])\n",
        "ds_test.set_format(type='torch', columns=['image', 'label'])"
      ],
      "metadata": {
        "id": "LAhYXgKGIz_7"
      },
      "execution_count": 48,
      "outputs": []
    },
    {
      "cell_type": "code",
      "source": [
        "type(ds_train)"
      ],
      "metadata": {
        "colab": {
          "base_uri": "https://localhost:8080/"
        },
        "id": "tWRr0VmjIzWH",
        "outputId": "7fff34a3-53e3-4f42-a613-e8524d64369f"
      },
      "execution_count": 49,
      "outputs": [
        {
          "output_type": "execute_result",
          "data": {
            "text/plain": [
              "datasets.arrow_dataset.Dataset"
            ]
          },
          "metadata": {},
          "execution_count": 49
        }
      ]
    },
    {
      "cell_type": "code",
      "source": [
        "dls_train = torch.utils.data.DataLoader(dataset=ds_train,\n",
        "                                        shuffle=True,\n",
        "                                        batch_size=bs,\n",
        "                                        num_workers = 2)\n",
        "dls_test = torch.utils.data.DataLoader(dataset=ds_test,\n",
        "                                       shuffle=False,\n",
        "                                       batch_size=bs,\n",
        "                                       num_workers = 2)"
      ],
      "metadata": {
        "id": "5oaLMJY-Iyql"
      },
      "execution_count": 50,
      "outputs": []
    },
    {
      "cell_type": "code",
      "source": [
        "type(dls_train)"
      ],
      "metadata": {
        "colab": {
          "base_uri": "https://localhost:8080/"
        },
        "id": "numi63hEKnO2",
        "outputId": "9ac42d50-a761-4cd2-e2e4-ceb2252ed955"
      },
      "execution_count": 51,
      "outputs": [
        {
          "output_type": "execute_result",
          "data": {
            "text/plain": [
              "torch.utils.data.dataloader.DataLoader"
            ]
          },
          "metadata": {},
          "execution_count": 51
        }
      ]
    },
    {
      "cell_type": "code",
      "source": [
        "dls_train.dataset.shape"
      ],
      "metadata": {
        "colab": {
          "base_uri": "https://localhost:8080/"
        },
        "id": "irRw-5OKKrGU",
        "outputId": "3f6005ce-549c-45c2-f94a-554be8c046e6"
      },
      "execution_count": 52,
      "outputs": [
        {
          "output_type": "execute_result",
          "data": {
            "text/plain": [
              "(60000, 2)"
            ]
          },
          "metadata": {},
          "execution_count": 52
        }
      ]
    },
    {
      "cell_type": "code",
      "source": [
        "dls_train.dataset"
      ],
      "metadata": {
        "colab": {
          "base_uri": "https://localhost:8080/"
        },
        "id": "rVkZw75oLI14",
        "outputId": "661ac699-d0da-4f8a-eddd-05562ba9db0f"
      },
      "execution_count": 53,
      "outputs": [
        {
          "output_type": "execute_result",
          "data": {
            "text/plain": [
              "Dataset({\n",
              "    features: ['image', 'label'],\n",
              "    num_rows: 60000\n",
              "})"
            ]
          },
          "metadata": {},
          "execution_count": 53
        }
      ]
    },
    {
      "cell_type": "code",
      "source": [
        "dls_train.dataset[\"image\"].shape"
      ],
      "metadata": {
        "colab": {
          "base_uri": "https://localhost:8080/"
        },
        "id": "GfId3ynrX5gp",
        "outputId": "e6f6e1ed-8866-4c52-a9e8-79abaa83e0c7"
      },
      "execution_count": 59,
      "outputs": [
        {
          "output_type": "execute_result",
          "data": {
            "text/plain": [
              "torch.Size([60000, 28, 28])"
            ]
          },
          "metadata": {},
          "execution_count": 59
        }
      ]
    },
    {
      "cell_type": "code",
      "source": [
        "dls_train[\"image\"]"
      ],
      "metadata": {
        "colab": {
          "base_uri": "https://localhost:8080/",
          "height": 175
        },
        "id": "ORaeENtiYPmW",
        "outputId": "b68aa15e-39f3-4082-8500-3c1bbadda1c9"
      },
      "execution_count": 60,
      "outputs": [
        {
          "output_type": "error",
          "ename": "TypeError",
          "evalue": "ignored",
          "traceback": [
            "\u001b[0;31m---------------------------------------------------------------------------\u001b[0m",
            "\u001b[0;31mTypeError\u001b[0m                                 Traceback (most recent call last)",
            "\u001b[0;32m<ipython-input-60-a01fbed43d02>\u001b[0m in \u001b[0;36m<cell line: 1>\u001b[0;34m()\u001b[0m\n\u001b[0;32m----> 1\u001b[0;31m \u001b[0mdls_train\u001b[0m\u001b[0;34m[\u001b[0m\u001b[0;34m\"image\"\u001b[0m\u001b[0;34m]\u001b[0m\u001b[0;34m\u001b[0m\u001b[0;34m\u001b[0m\u001b[0m\n\u001b[0m",
            "\u001b[0;31mTypeError\u001b[0m: 'DataLoader' object is not subscriptable"
          ]
        }
      ]
    },
    {
      "cell_type": "code",
      "source": [
        "xb,yb = next(iter(dls_train))[]\n",
        "xb.shape"
      ],
      "metadata": {
        "colab": {
          "base_uri": "https://localhost:8080/",
          "height": 193
        },
        "id": "LpQchsS5MomR",
        "outputId": "58307d99-d1a9-4fbe-c086-9fb631048c59"
      },
      "execution_count": 54,
      "outputs": [
        {
          "output_type": "error",
          "ename": "AttributeError",
          "evalue": "ignored",
          "traceback": [
            "\u001b[0;31m---------------------------------------------------------------------------\u001b[0m",
            "\u001b[0;31mAttributeError\u001b[0m                            Traceback (most recent call last)",
            "\u001b[0;32m<ipython-input-54-f783fb9175cd>\u001b[0m in \u001b[0;36m<cell line: 2>\u001b[0;34m()\u001b[0m\n\u001b[1;32m      1\u001b[0m \u001b[0mxb\u001b[0m\u001b[0;34m,\u001b[0m\u001b[0myb\u001b[0m \u001b[0;34m=\u001b[0m \u001b[0mnext\u001b[0m\u001b[0;34m(\u001b[0m\u001b[0miter\u001b[0m\u001b[0;34m(\u001b[0m\u001b[0mdls_train\u001b[0m\u001b[0;34m)\u001b[0m\u001b[0;34m)\u001b[0m\u001b[0;34m\u001b[0m\u001b[0;34m\u001b[0m\u001b[0m\n\u001b[0;32m----> 2\u001b[0;31m \u001b[0mxb\u001b[0m\u001b[0;34m.\u001b[0m\u001b[0mshape\u001b[0m\u001b[0;34m\u001b[0m\u001b[0;34m\u001b[0m\u001b[0m\n\u001b[0m",
            "\u001b[0;31mAttributeError\u001b[0m: 'str' object has no attribute 'shape'"
          ]
        }
      ]
    },
    {
      "cell_type": "code",
      "source": [
        "torch.manual_seed(42)\n",
        "\n",
        "epochs = 5\n",
        "for epoch in range(epochs):\n",
        "  print(f\"Epoch: {epoch}\\n---------\")\n",
        "  train_step(data_loader=dls_train,\n",
        "      model=model,\n",
        "      loss_fn=criterion,\n",
        "      optimizer=optimizer,\n",
        "      accuracy_fn=MulticlassAccuracy(num_classes=10).to(device),\n",
        "      device = device\n",
        "  )\n",
        "  test_step(data_loader=dls_valid,\n",
        "      model=model,\n",
        "      loss_fn=criterion,\n",
        "      accuracy_fn=MulticlassAccuracy(num_classes=10).to(device),\n",
        "      device = device\n",
        "  )"
      ],
      "metadata": {
        "colab": {
          "base_uri": "https://localhost:8080/",
          "height": 401
        },
        "id": "CxBnupCbQOuG",
        "outputId": "aba74e58-0160-46f5-f793-931e117612a9"
      },
      "execution_count": 57,
      "outputs": [
        {
          "output_type": "stream",
          "name": "stdout",
          "text": [
            "Epoch: 0\n",
            "---------\n"
          ]
        },
        {
          "output_type": "error",
          "ename": "AttributeError",
          "evalue": "ignored",
          "traceback": [
            "\u001b[0;31m---------------------------------------------------------------------------\u001b[0m",
            "\u001b[0;31mAttributeError\u001b[0m                            Traceback (most recent call last)",
            "\u001b[0;32m<ipython-input-57-f14c39c78da1>\u001b[0m in \u001b[0;36m<cell line: 4>\u001b[0;34m()\u001b[0m\n\u001b[1;32m      4\u001b[0m \u001b[0;32mfor\u001b[0m \u001b[0mepoch\u001b[0m \u001b[0;32min\u001b[0m \u001b[0mrange\u001b[0m\u001b[0;34m(\u001b[0m\u001b[0mepochs\u001b[0m\u001b[0;34m)\u001b[0m\u001b[0;34m:\u001b[0m\u001b[0;34m\u001b[0m\u001b[0;34m\u001b[0m\u001b[0m\n\u001b[1;32m      5\u001b[0m   \u001b[0mprint\u001b[0m\u001b[0;34m(\u001b[0m\u001b[0;34mf\"Epoch: {epoch}\\n---------\"\u001b[0m\u001b[0;34m)\u001b[0m\u001b[0;34m\u001b[0m\u001b[0;34m\u001b[0m\u001b[0m\n\u001b[0;32m----> 6\u001b[0;31m   train_step(data_loader=dls_train,\n\u001b[0m\u001b[1;32m      7\u001b[0m       \u001b[0mmodel\u001b[0m\u001b[0;34m=\u001b[0m\u001b[0mmodel\u001b[0m\u001b[0;34m,\u001b[0m\u001b[0;34m\u001b[0m\u001b[0;34m\u001b[0m\u001b[0m\n\u001b[1;32m      8\u001b[0m       \u001b[0mloss_fn\u001b[0m\u001b[0;34m=\u001b[0m\u001b[0mcriterion\u001b[0m\u001b[0;34m,\u001b[0m\u001b[0;34m\u001b[0m\u001b[0;34m\u001b[0m\u001b[0m\n",
            "\u001b[0;32m<ipython-input-8-6c1d3b3ddf0c>\u001b[0m in \u001b[0;36mtrain_step\u001b[0;34m(model, data_loader, loss_fn, optimizer, accuracy_fn, device)\u001b[0m\n\u001b[1;32m      2\u001b[0m   \u001b[0mtrain_loss\u001b[0m\u001b[0;34m,\u001b[0m \u001b[0mtrain_acc\u001b[0m \u001b[0;34m=\u001b[0m \u001b[0;36m0\u001b[0m\u001b[0;34m,\u001b[0m\u001b[0;36m0\u001b[0m\u001b[0;34m\u001b[0m\u001b[0;34m\u001b[0m\u001b[0m\n\u001b[1;32m      3\u001b[0m   \u001b[0;32mfor\u001b[0m \u001b[0mbatch\u001b[0m\u001b[0;34m,\u001b[0m \u001b[0;34m(\u001b[0m\u001b[0mX\u001b[0m\u001b[0;34m,\u001b[0m\u001b[0my\u001b[0m\u001b[0;34m)\u001b[0m \u001b[0;32min\u001b[0m \u001b[0menumerate\u001b[0m\u001b[0;34m(\u001b[0m\u001b[0mdata_loader\u001b[0m\u001b[0;34m)\u001b[0m\u001b[0;34m:\u001b[0m\u001b[0;34m\u001b[0m\u001b[0;34m\u001b[0m\u001b[0m\n\u001b[0;32m----> 4\u001b[0;31m     \u001b[0mX\u001b[0m\u001b[0;34m,\u001b[0m\u001b[0my\u001b[0m \u001b[0;34m=\u001b[0m \u001b[0mX\u001b[0m\u001b[0;34m.\u001b[0m\u001b[0mto\u001b[0m\u001b[0;34m(\u001b[0m\u001b[0mdevice\u001b[0m\u001b[0;34m)\u001b[0m\u001b[0;34m,\u001b[0m\u001b[0my\u001b[0m\u001b[0;34m.\u001b[0m\u001b[0mto\u001b[0m\u001b[0;34m(\u001b[0m\u001b[0mdevice\u001b[0m\u001b[0;34m)\u001b[0m\u001b[0;34m\u001b[0m\u001b[0;34m\u001b[0m\u001b[0m\n\u001b[0m\u001b[1;32m      5\u001b[0m     \u001b[0my_pred\u001b[0m \u001b[0;34m=\u001b[0m \u001b[0mmodel\u001b[0m\u001b[0;34m(\u001b[0m\u001b[0mX\u001b[0m\u001b[0;34m)\u001b[0m\u001b[0;34m\u001b[0m\u001b[0;34m\u001b[0m\u001b[0m\n\u001b[1;32m      6\u001b[0m     \u001b[0mloss\u001b[0m \u001b[0;34m=\u001b[0m \u001b[0mloss_fn\u001b[0m\u001b[0;34m(\u001b[0m\u001b[0my_pred\u001b[0m\u001b[0;34m,\u001b[0m \u001b[0my\u001b[0m\u001b[0;34m)\u001b[0m\u001b[0;34m\u001b[0m\u001b[0;34m\u001b[0m\u001b[0m\n",
            "\u001b[0;31mAttributeError\u001b[0m: 'str' object has no attribute 'to'"
          ]
        }
      ]
    },
    {
      "cell_type": "code",
      "source": [],
      "metadata": {
        "id": "7HI58xfXXM2c"
      },
      "execution_count": null,
      "outputs": []
    }
  ]
}